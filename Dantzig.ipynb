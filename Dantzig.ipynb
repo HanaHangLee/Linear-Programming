{
 "cells": [
  {
   "cell_type": "markdown",
   "id": "f8cd73bf",
   "metadata": {},
   "source": [
    "### Phương pháp Đơn hình Dantzig (Trường hợp bi > 0)"
   ]
  },
  {
   "cell_type": "code",
   "execution_count": 1,
   "id": "eacf326b",
   "metadata": {},
   "outputs": [],
   "source": [
    "import numpy as np\n",
    "from sympy import*\n",
    "import math"
   ]
  },
  {
   "cell_type": "code",
   "execution_count": 73,
   "id": "2dd1e073",
   "metadata": {},
   "outputs": [
    {
     "name": "stdout",
     "output_type": "stream",
     "text": [
      "Giá trị tối ưu: 11.428571428571427\n",
      "Giá trị của các biến: [-1.14285714  2.57142857]\n"
     ]
    }
   ],
   "source": [
    "#A = np.array([[1, 1, 1], [2, 1, 0], [1, 2, 3]])\n",
    "#b = np.array([10, 8, 15])\n",
    "#c = np.array([2, 3, 4])\n",
    "A = np.array([[-3, 1], [1, 2]])\n",
    "c = np.array([-1, 4])\n",
    "b = np.array([6, 4])\n",
    "result = simplex(A, b, c)\n",
    "\n",
    "if result is None:\n",
    "    print(\"Bài toán không giới nội hoặc vô số nghiệm.\")\n",
    "else:\n",
    "    print(\"Giá trị tối ưu:\", result[0])\n",
    "    print(\"Giá trị của các biến:\", result[1])"
   ]
  },
  {
   "cell_type": "code",
   "execution_count": 115,
   "id": "dd9d418c",
   "metadata": {},
   "outputs": [
    {
     "data": {
      "text/plain": [
       "array([[1., 0.],\n",
       "       [0., 1.]])"
      ]
     },
     "execution_count": 115,
     "metadata": {},
     "output_type": "execute_result"
    }
   ],
   "source": [
    "B = set(range(2, 4))\n",
    "c_B = c_[list(B)]\n",
    "A_ = np.concatenate((A, np.eye(2)), axis=1)\n",
    "B_inv = np.linalg.inv(A_[:, list(B)])\n",
    "B_inv"
   ]
  },
  {
   "cell_type": "markdown",
   "id": "7a634194",
   "metadata": {},
   "source": [
    "### Sử dụng thư viện Scipy"
   ]
  },
  {
   "cell_type": "code",
   "execution_count": 5,
   "id": "7183135a",
   "metadata": {},
   "outputs": [],
   "source": [
    "import numpy as np\n",
    "from scipy.optimize import linprog"
   ]
  },
  {
   "cell_type": "code",
   "execution_count": 14,
   "id": "43b61d05",
   "metadata": {},
   "outputs": [],
   "source": [
    "A = np.array([[0.5, -5.5, -2.5, 9], [0.5, -1.5, -0.5, 1], [1, 0, 0, 0]])\n",
    "c = np.array([-10, 57, 9, 24])\n",
    "b = np.array([0, 0 ,1])\n",
    "bounds = [(0, None), (0, None), (0, None), (0, None)]\n",
    "constraints = [{'type': 'ineq', 'fun': lambda x: b - A.dot(x)}]"
   ]
  },
  {
   "cell_type": "code",
   "execution_count": 15,
   "id": "8581ed15",
   "metadata": {},
   "outputs": [],
   "source": [
    "res = linprog(c, A_ub=A, b_ub=b, method='simplex')"
   ]
  },
  {
   "cell_type": "code",
   "execution_count": 16,
   "id": "82d2f45e",
   "metadata": {},
   "outputs": [
    {
     "name": "stdout",
     "output_type": "stream",
     "text": [
      "     con: array([], dtype=float64)\n",
      "     fun: 0.0\n",
      " message: 'Iteration limit reached.'\n",
      "     nit: 1000\n",
      "   slack: array([0., 0., 1.])\n",
      "  status: 1\n",
      " success: False\n",
      "       x: array([0., 0., 0., 0.])\n"
     ]
    }
   ],
   "source": [
    "print(res)"
   ]
  },
  {
   "cell_type": "code",
   "execution_count": 35,
   "id": "70af864d",
   "metadata": {},
   "outputs": [
    {
     "name": "stdout",
     "output_type": "stream",
     "text": [
      "\n",
      "                 ****SiMplex Algorithm ****\n",
      "\n",
      "\n",
      "Table at itr = 0\n",
      "B \tCB \tXB \ty1 \ty2 \ty3 \ty4\n",
      "3\t0\t8\t1\t1\t0\t1\t\n",
      "2\t0\t10\t2\t1\t1\t0\t\n",
      "\n",
      "Simplex Working....\n",
      "Iteration:  1\n",
      "B \tCB \tXB \ty1 \ty2 \ty3 \ty4\n",
      "3\t0\t8\t1\t1\t0\t1\t\n",
      "2\t0\t10\t2\t1\t1\t0\t\n",
      "rel profit:  1, 1, 0, 0, \n",
      "\n",
      "pivot element index: [1 3]\n",
      "pivot element:  2\n",
      "\n",
      "\n",
      "Iteration:  2\n",
      "B \tCB \tXB \ty1 \ty2 \ty3 \ty4\n",
      "3\t0\t3\t0\t1/2\t-1/2\t1\t\n",
      "0\t1\t5\t1\t1/2\t1/2\t0\t\n",
      "rel profit:  0, 1/2, -1/2, 0, \n",
      "\n",
      "pivot element index: [0 4]\n",
      "pivot element:  1/2\n",
      "\n",
      "\n",
      "Iteration:  3\n",
      "B \tCB \tXB \ty1 \ty2 \ty3 \ty4\n",
      "1\t1\t6\t0\t1\t-1\t2\t\n",
      "0\t1\t2\t1\t0\t1\t-1\t\n",
      "rel profit:  0, 0, 0, -1, \n",
      "Case of Alternate found\n",
      "\n",
      "All profits are <= 0, optimality reached\n",
      "\n",
      "***************************************************************\n",
      "ALTERNATE Solution\n",
      "optimal table:\n",
      "B \tCB \tXB \ty1 \ty2 \ty3 \ty4\n",
      "1\t1\t6\t0\t1\t-1\t2\t\n",
      "0\t1\t2\t1\t0\t1\t-1\t\n",
      "\n",
      "value of Z at optimality:  8\n",
      "Final Basis:  ['x2', 'x1']\n",
      "Simplex Finished...\n",
      "\n"
     ]
    }
   ],
   "source": [
    "import numpy as np\n",
    "from fractions import Fraction # so that numbers are not displayed in decimal.\n",
    " \n",
    "print(\"\\n                 ****SiMplex Algorithm ****\\n\\n\")\n",
    " \n",
    "# inputs\n",
    " \n",
    "# A will contain the coefficients of the constraints\n",
    "A = np.array([[1, 1, 0, 1], [2, 1, 1, 0]])\n",
    "# b will contain the amount of resources\n",
    "b = np.array([8, 10])          \n",
    "# c will contain coefficients of objective function Z     \n",
    "c = np.array([1, 1, 0, 0])            \n",
    " \n",
    "# B will contain the basic variables that make identity matrix\n",
    "cb = np.array(c[3])\n",
    "B = np.array([[3], [2]])         \n",
    " # cb contains their corresponding coefficients in Z  \n",
    "cb = np.vstack((cb, c[2]))       \n",
    "xb = np.transpose([b])                \n",
    "# combine matrices B and cb\n",
    "table = np.hstack((B, cb))            \n",
    "table = np.hstack((table, xb))        \n",
    "# combine matrices B, cb and xb\n",
    "# finally combine matrix A to form the complete simplex table\n",
    "table = np.hstack((table, A))        \n",
    "# change the type of table to float\n",
    "table = np.array(table, dtype ='float')\n",
    "# inputs end\n",
    " \n",
    "# if min problem, make this var 1\n",
    "MIN = 0\n",
    " \n",
    "print(\"Table at itr = 0\")\n",
    "print(\"B \\tCB \\tXB \\ty1 \\ty2 \\ty3 \\ty4\")\n",
    "for row in table:\n",
    "    for el in row:\n",
    "                # limit the denominator under 100\n",
    "        print(Fraction(str(el)).limit_denominator(100), end ='\\t')\n",
    "    print()\n",
    "print()\n",
    "print(\"Simplex Working....\")\n",
    " \n",
    "# when optimality reached it will be made 1\n",
    "reached = 0    \n",
    "itr = 1\n",
    "unbounded = 0\n",
    "alternate = 0\n",
    " \n",
    "while reached == 0:\n",
    " \n",
    "    print(\"Iteration: \", end =' ')\n",
    "    print(itr)\n",
    "    print(\"B \\tCB \\tXB \\ty1 \\ty2 \\ty3 \\ty4\")\n",
    "    for row in table:\n",
    "        for el in row:\n",
    "            print(Fraction(str(el)).limit_denominator(100), end ='\\t')\n",
    "        print()\n",
    " \n",
    "    # calculate Relative profits-> cj - zj for non-basics\n",
    "    i = 0\n",
    "    rel_prof = []\n",
    "    while i<len(A[0]):\n",
    "        rel_prof.append(c[i] - np.sum(table[:, 1]*table[:, 3 + i]))\n",
    "        i = i + 1\n",
    " \n",
    "    print(\"rel profit: \", end =\" \")\n",
    "    for profit in rel_prof:\n",
    "        print(Fraction(str(profit)).limit_denominator(100), end =\", \")\n",
    "    print()\n",
    "    i = 0\n",
    "     \n",
    "    b_var = table[:, 0]\n",
    "    # checking for alternate solution\n",
    "    while i<len(A[0]):\n",
    "        j = 0\n",
    "        present = 0\n",
    "        while j<len(b_var):\n",
    "            if int(b_var[j]) == i:\n",
    "                present = 1\n",
    "                break;\n",
    "            j+= 1\n",
    "        if present == 0:\n",
    "            if rel_prof[i] == 0:\n",
    "                alternate = 1\n",
    "                print(\"Case of Alternate found\")\n",
    "                # print(i, end =\" \")\n",
    "        i+= 1\n",
    "    print()\n",
    "    flag = 0\n",
    "    for profit in rel_prof:\n",
    "        if profit>0:\n",
    "            flag = 1\n",
    "            break\n",
    "        # if all relative profits <= 0\n",
    "    if flag == 0:\n",
    "        print(\"All profits are <= 0, optimality reached\")\n",
    "        reached = 1\n",
    "        break\n",
    " \n",
    "    # kth var will enter the basis\n",
    "    k = rel_prof.index(max(rel_prof))\n",
    "    min = 99999\n",
    "    i = 0;\n",
    "    r = -1\n",
    "    # min ratio test (only positive values)\n",
    "    while i<len(table):\n",
    "        if (table[:, 2][i]>0 and table[:, 3 + k][i]>0):\n",
    "            val = table[:, 2][i]/table[:, 3 + k][i]\n",
    "            if val<min:\n",
    "                min = val\n",
    "                r = i     # leaving variable\n",
    "        i+= 1\n",
    " \n",
    "        # if no min ratio test was performed\n",
    "    if r ==-1:\n",
    "        unbounded = 1\n",
    "        print(\"Case of Unbounded\")\n",
    "        break\n",
    " \n",
    "    print(\"pivot element index:\", end =' ')\n",
    "    print(np.array([r, 3 + k]))\n",
    " \n",
    "    pivot = table[r][3 + k]\n",
    "    print(\"pivot element: \", end =\" \")\n",
    "    print(Fraction(pivot).limit_denominator(100))\n",
    "         \n",
    "        # perform row operations\n",
    "    # divide the pivot row with the pivot element\n",
    "    table[r, 2:len(table[0])] = table[\n",
    "            r, 2:len(table[0])] / pivot\n",
    "             \n",
    "    # do row operation on other rows\n",
    "    i = 0\n",
    "    while i<len(table):\n",
    "        if i != r:\n",
    "            table[i, 2:len(table[0])] = table[i, 2:len(table[0])] - table[i][3 + k] *table[r, 2:len(table[0])]\n",
    "        i += 1\n",
    " \n",
    "     \n",
    "    # assign the new basic variable\n",
    "    table[r][0] = k\n",
    "    table[r][1] = c[k]\n",
    "     \n",
    "    print()\n",
    "    print()\n",
    "    itr+= 1\n",
    "     \n",
    "print()\n",
    " \n",
    "print(\"***************************************************************\")\n",
    "if unbounded == 1:\n",
    "    print(\"UNBOUNDED LPP\")\n",
    "    exit()\n",
    "if alternate == 1:\n",
    "    print(\"ALTERNATE Solution\")\n",
    "print(\"optimal table:\")\n",
    "print(\"B \\tCB \\tXB \\ty1 \\ty2 \\ty3 \\ty4\")\n",
    "for row in table:\n",
    "    for el in row:\n",
    "        print(Fraction(str(el)).limit_denominator(100), end ='\\t')\n",
    "    print()\n",
    "print()\n",
    "print(\"value of Z at optimality: \", end =\" \")\n",
    " \n",
    "basis = []\n",
    "i = 0\n",
    "sum = 0\n",
    "while i<len(table):\n",
    "    sum += c[int(table[i][0])]*table[i][2]\n",
    "    temp = \"x\"+str(int(table[i][0])+1)\n",
    "    basis.append(temp)\n",
    "    i+= 1\n",
    "# if MIN problem make z negative\n",
    "if MIN == 1:\n",
    "    print(-Fraction(str(sum)).limit_denominator(100))\n",
    "else:\n",
    "    print(Fraction(str(sum)).limit_denominator(100))\n",
    "print(\"Final Basis: \", end =\" \")\n",
    "print(basis)\n",
    " \n",
    "print(\"Simplex Finished...\")\n",
    "print()"
   ]
  },
  {
   "cell_type": "markdown",
   "id": "1163e7a3",
   "metadata": {},
   "source": [
    "### Sử dụng thư viện để kiểm tra"
   ]
  },
  {
   "cell_type": "code",
   "execution_count": 240,
   "id": "e69ce2de",
   "metadata": {},
   "outputs": [
    {
     "name": "stdout",
     "output_type": "stream",
     "text": [
      "Nghiệm tối ưu:  [5. 4.]\n",
      "Giá trị hàm mục tiêu tối ưu:  -1.0000000000000009\n"
     ]
    }
   ],
   "source": [
    "from scipy.optimize import linprog\n",
    "import numpy as np\n",
    "# Hàm mục tiêu và ràng buộc của bài toán tối ưu hóa\n",
    "#c = [1, -2, 3]\n",
    "#A = [[-1, 2, -3], [4, -5, 6], [-7, 8, -9]]\n",
    "#b = [-1, 2, -3]\n",
    "A = np.array([[-3,-1], [-1,-2], [1,-1], [1,0], [0,1]])\n",
    "c = np.array([-1,1])\n",
    "b = np.array([-3.,-4.,1.,5.,5.])\n",
    "\n",
    "\n",
    "# Giải bài toán tối ưu hóa bằng phương pháp đơn hình Bland\n",
    "res = linprog(c, A_ub=A, b_ub=b, method='simplex', options={'bland': True})\n",
    "\n",
    "# In kết quả\n",
    "print('Nghiệm tối ưu: ', res.x)\n",
    "print('Giá trị hàm mục tiêu tối ưu: ', res.fun)"
   ]
  },
  {
   "cell_type": "code",
   "execution_count": null,
   "id": "8d544994",
   "metadata": {},
   "outputs": [],
   "source": []
  },
  {
   "cell_type": "code",
   "execution_count": 252,
   "id": "79e35181",
   "metadata": {},
   "outputs": [],
   "source": [
    "import numpy as np\n",
    "\n",
    "# A: ma trận chưa hệ của của các biến trong các ràng buộc\n",
    "# b: mảng chứa các giá trị bi\n",
    "# c: mảng chứa hệ số các biến trong hàm mục tiêu\n",
    "\n",
    "def dantzig_method(A, b, c):\n",
    "    m, n = A.shape\n",
    "\n",
    "    # Khởi tạo biến giá trị tối ưu\n",
    "    z = 0 \n",
    "    \n",
    "    # Tính ma trận bổ sung\n",
    "    T = np.hstack((A, np.eye(m)))\n",
    "    c_n = np.concatenate((c, np.zeros(m)))\n",
    "    b_n = b.copy()\n",
    "    \n",
    "    # Copy biến ban đầu để so sánh\n",
    "    A_cop = T.copy()\n",
    "    c_cop = c_n.copy()\n",
    "    b_cop = b.copy()\n",
    "    \n",
    "    # Tính biến cơ sở ban đầu\n",
    "    basis = list(range(n, n + m))\n",
    "    # Chuyển về dạng chuẩn tắc\n",
    "    while True:\n",
    "        # Tìm biến vào\n",
    "        j = np.argmin(c_n)\n",
    "        \n",
    "        if c_n[j] >= 0:\n",
    "            break\n",
    "            \n",
    "        # Tìm biến ra\n",
    "        ratios = [float('inf')] * m\n",
    "        for i in range(m):\n",
    "            if T[i, j] > 0:\n",
    "                ratios[i] = b_n[i] / T[i, j]\n",
    "        \n",
    "        i = np.argmin(ratios)\n",
    "\n",
    "        # Kiểm tra bài toán không giới nội\n",
    "        if ratios[i] == float('inf'):\n",
    "            print(\"Bài toán không giới nội.\")\n",
    "            return -np.inf, None\n",
    "        \n",
    "        # Tính giá trị tối ưu\n",
    "        z += c_n[j] / T[i, j] * b_n[i]\n",
    "        # Cập nhật ma trận\n",
    "        basis[i] = j\n",
    "        \n",
    "        for k in range(m):\n",
    "            if k != i:\n",
    "                b_n[k] -= T[k, j]/T[i,j] * b_n[i]\n",
    "                T[k, :] -=  T[k, j] / T[i,j] * T[i, :]\n",
    "        \n",
    "        b_n[i] /= T[i, j]\n",
    "        T[i, :] /= T[i, j]       \n",
    "        c_n -= c_n[j] * T[i, :]\n",
    "        \n",
    "        # Kiểm tra thuật toán có hoàn thành hay không \n",
    "        # Nếu Từ vựng mới trùng với từ vựng ban đầu thì dừng thuật toán\n",
    "        if (c_n == c_cop).all() and (T == A_cop).all() and (b_n == b_cop).all():\n",
    "            print(\"Thuật toán lặp vô hạn.\")\n",
    "            return None, None\n",
    "        \n",
    "    # Tìm nghiệm tối ưu\n",
    "    x = np.zeros(n)\n",
    "    for i in range(m):\n",
    "        if basis[i] < n:\n",
    "            x[basis[i]] = b_n[i]\n",
    "                           \n",
    "    return z, x "
   ]
  },
  {
   "cell_type": "markdown",
   "id": "de0c53d7",
   "metadata": {},
   "source": [
    "#### bi >0"
   ]
  },
  {
   "cell_type": "code",
   "execution_count": 253,
   "id": "3862e22a",
   "metadata": {},
   "outputs": [
    {
     "name": "stdout",
     "output_type": "stream",
     "text": [
      "z =  -15.0\n",
      "x =  [5. 0. 3.]\n"
     ]
    }
   ],
   "source": [
    "c = np.array([-3,-1, 0])\n",
    "A = np.array([[1,2,0], [1,1,-1], [7,3,-5]])\n",
    "b = np.array([5.,2.,20.])\n",
    "z, x = dantzig_method(A, b, c)\n",
    "print(\"z = \", z)\n",
    "print(\"x = \", x)"
   ]
  },
  {
   "cell_type": "code",
   "execution_count": 254,
   "id": "ca7e9007",
   "metadata": {},
   "outputs": [
    {
     "name": "stdout",
     "output_type": "stream",
     "text": [
      "z =  -21.0\n",
      "x =  [1.5 3. ]\n"
     ]
    }
   ],
   "source": [
    "c = np.array([-4,-5])\n",
    "A = np.array([[2,2], [1,0], [0,1]])\n",
    "b = np.array([9.,4.,3.])\n",
    "z, x = dantzig_method(A, b, c)\n",
    "print(\"z = \", z)\n",
    "print(\"x = \", x)"
   ]
  },
  {
   "cell_type": "markdown",
   "id": "af78a5f6",
   "metadata": {},
   "source": [
    "#### Trường hợp không giới nội"
   ]
  },
  {
   "cell_type": "code",
   "execution_count": 255,
   "id": "b6a3c521",
   "metadata": {},
   "outputs": [
    {
     "name": "stdout",
     "output_type": "stream",
     "text": [
      "Bài toán không giới nội.\n",
      "z =  -inf\n",
      "x =  None\n"
     ]
    }
   ],
   "source": [
    "c = np.array([-1,-3,1])\n",
    "A = np.array([[2,2,-1],[3,-2,1], [1,-3,1]])\n",
    "b = np.array([10.,10., 10.])\n",
    "#c = np.array([-4, -5, 5])\n",
    "#A = np.array([[1,2,-2], [1,-1, 1], [2,1,-1], [3,4,-4]])\n",
    "#b = np.array([3,2,3,8])\n",
    "z, x = dantzig_method(A, b, c)\n",
    "print(\"z = \", z)\n",
    "print(\"x = \", x)"
   ]
  },
  {
   "cell_type": "markdown",
   "id": "5193d2f6",
   "metadata": {},
   "source": [
    "#### Trường hợp vô số nghiệm"
   ]
  },
  {
   "cell_type": "code",
   "execution_count": 258,
   "id": "30285948",
   "metadata": {},
   "outputs": [
    {
     "name": "stdout",
     "output_type": "stream",
     "text": [
      "z =  -1.0\n",
      "x =  [1. 0.]\n"
     ]
    }
   ],
   "source": [
    "c = np.array([-1, 1])\n",
    "A = np.array([[-3,-1], [-1,-2], [1,-1], [1,0], [0,1]])\n",
    "b = np.array([-3., -4., 1., 5., 5.])\n",
    "z, x = dantzig_method(A, b, c)\n",
    "print(\"z = \", z)\n",
    "print(\"x = \", x)"
   ]
  },
  {
   "cell_type": "markdown",
   "id": "7dbd374f",
   "metadata": {},
   "source": [
    "#### Trường hợp lặp vô hạn"
   ]
  },
  {
   "cell_type": "code",
   "execution_count": 239,
   "id": "199f5482",
   "metadata": {},
   "outputs": [
    {
     "name": "stdout",
     "output_type": "stream",
     "text": [
      "ratios: [0.0, 0.0, 1.0]\n",
      "ratios: [inf, 0.0, 0.09090909090909091]\n",
      "ratios: [0.0, 0.0, inf]\n",
      "ratios: [inf, 0.0, inf]\n",
      "ratios: [0.0, 0.0, inf]\n",
      "ratios: [inf, 0.0, inf]\n",
      "Thuat toan lap vo han.\n",
      "z =  None\n",
      "x =  None\n"
     ]
    }
   ],
   "source": [
    "A = np.array([[0.5, -5.5, -2.5, 9], [0.5, -1.5, -0.5, 1], [1, 0,0,0]])\n",
    "c = np.array([-10, 57, 9, 24])\n",
    "b = np.array([0.,0.,1.])\n",
    "z, x = dantzig_method(A, b, c)\n",
    "print(\"z = \", z)\n",
    "print(\"x = \", x)"
   ]
  },
  {
   "cell_type": "code",
   "execution_count": 248,
   "id": "cb5a144f",
   "metadata": {},
   "outputs": [
    {
     "name": "stdout",
     "output_type": "stream",
     "text": [
      "Ma trận A khả giải.\n"
     ]
    }
   ],
   "source": [
    "import numpy as np\n",
    "\n",
    "A = np.array([[-1,0,1], [0,3,-3], [1,1,-1], [4,-1,1], [5, -1, 0]])\n",
    "Q, R = np.linalg.qr(A)\n",
    "\n",
    "if Q.shape[1] == A.shape[1]:\n",
    "    print(\"Ma trận A khả giải.\")\n",
    "else:\n",
    "    print(\"Ma trận A không khả giải.\")"
   ]
  },
  {
   "cell_type": "code",
   "execution_count": null,
   "id": "9e7f7278",
   "metadata": {},
   "outputs": [],
   "source": []
  }
 ],
 "metadata": {
  "kernelspec": {
   "display_name": "Python 3 (ipykernel)",
   "language": "python",
   "name": "python3"
  },
  "language_info": {
   "codemirror_mode": {
    "name": "ipython",
    "version": 3
   },
   "file_extension": ".py",
   "mimetype": "text/x-python",
   "name": "python",
   "nbconvert_exporter": "python",
   "pygments_lexer": "ipython3",
   "version": "3.9.7"
  }
 },
 "nbformat": 4,
 "nbformat_minor": 5
}
