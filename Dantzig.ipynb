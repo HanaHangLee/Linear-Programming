{
 "cells": [
  {
   "cell_type": "markdown",
   "id": "f8cd73bf",
   "metadata": {},
   "source": [
    "### Phương pháp Đơn hình Dantzig (Trường hợp bi > 0)"
   ]
  },
  {
   "cell_type": "code",
   "execution_count": 1,
   "id": "eacf326b",
   "metadata": {},
   "outputs": [],
   "source": [
    "import numpy as np\n",
    "from sympy import*\n",
    "import math"
   ]
  },
  {
   "cell_type": "markdown",
   "id": "7a634194",
   "metadata": {},
   "source": [
    "### Sử dụng thư viện Scipy"
   ]
  },
  {
   "cell_type": "code",
   "execution_count": 5,
   "id": "7183135a",
   "metadata": {},
   "outputs": [],
   "source": [
    "import numpy as np\n",
    "from scipy.optimize import linprog"
   ]
  },
  {
   "cell_type": "code",
   "execution_count": 14,
   "id": "43b61d05",
   "metadata": {},
   "outputs": [],
   "source": [
    "A = np.array([[0.5, -5.5, -2.5, 9], [0.5, -1.5, -0.5, 1], [1, 0, 0, 0]])\n",
    "c = np.array([-10, 57, 9, 24])\n",
    "b = np.array([0, 0 ,1])\n",
    "bounds = [(0, None), (0, None), (0, None), (0, None)]\n",
    "constraints = [{'type': 'ineq', 'fun': lambda x: b - A.dot(x)}]"
   ]
  },
  {
   "cell_type": "code",
   "execution_count": 15,
   "id": "8581ed15",
   "metadata": {},
   "outputs": [],
   "source": [
    "res = linprog(c, A_ub=A, b_ub=b, method='simplex')"
   ]
  },
  {
   "cell_type": "code",
   "execution_count": 16,
   "id": "82d2f45e",
   "metadata": {},
   "outputs": [
    {
     "name": "stdout",
     "output_type": "stream",
     "text": [
      "     con: array([], dtype=float64)\n",
      "     fun: 0.0\n",
      " message: 'Iteration limit reached.'\n",
      "     nit: 1000\n",
      "   slack: array([0., 0., 1.])\n",
      "  status: 1\n",
      " success: False\n",
      "       x: array([0., 0., 0., 0.])\n"
     ]
    }
   ],
   "source": [
    "print(res)"
   ]
  },
  {
   "cell_type": "markdown",
   "id": "1163e7a3",
   "metadata": {},
   "source": [
    "### Sử dụng thư viện để kiểm tra"
   ]
  },
  {
   "cell_type": "code",
   "execution_count": 240,
   "id": "e69ce2de",
   "metadata": {},
   "outputs": [
    {
     "name": "stdout",
     "output_type": "stream",
     "text": [
      "Nghiệm tối ưu:  [5. 4.]\n",
      "Giá trị hàm mục tiêu tối ưu:  -1.0000000000000009\n"
     ]
    }
   ],
   "source": [
    "from scipy.optimize import linprog\n",
    "import numpy as np\n",
    "# Hàm mục tiêu và ràng buộc của bài toán tối ưu hóa\n",
    "#c = [1, -2, 3]\n",
    "#A = [[-1, 2, -3], [4, -5, 6], [-7, 8, -9]]\n",
    "#b = [-1, 2, -3]\n",
    "A = np.array([[-3,-1], [-1,-2], [1,-1], [1,0], [0,1]])\n",
    "c = np.array([-1,1])\n",
    "b = np.array([-3.,-4.,1.,5.,5.])\n",
    "\n",
    "\n",
    "# Giải bài toán tối ưu hóa bằng phương pháp đơn hình Bland\n",
    "res = linprog(c, A_ub=A, b_ub=b, method='simplex', options={'bland': True})\n",
    "\n",
    "# In kết quả\n",
    "print('Nghiệm tối ưu: ', res.x)\n",
    "print('Giá trị hàm mục tiêu tối ưu: ', res.fun)"
   ]
  },
  {
   "cell_type": "code",
   "execution_count": null,
   "id": "8d544994",
   "metadata": {},
   "outputs": [],
   "source": []
  },
  {
   "cell_type": "code",
   "execution_count": 252,
   "id": "79e35181",
   "metadata": {},
   "outputs": [],
   "source": [
    "import numpy as np\n",
    "\n",
    "# A: ma trận chưa hệ của của các biến trong các ràng buộc\n",
    "# b: mảng chứa các giá trị bi\n",
    "# c: mảng chứa hệ số các biến trong hàm mục tiêu\n",
    "\n",
    "def dantzig_method(A, b, c):\n",
    "    m, n = A.shape\n",
    "\n",
    "    # Khởi tạo biến giá trị tối ưu\n",
    "    z = 0 \n",
    "    \n",
    "    # Tính ma trận bổ sung\n",
    "    T = np.hstack((A, np.eye(m)))\n",
    "    c_n = np.concatenate((c, np.zeros(m)))\n",
    "    b_n = b.copy()\n",
    "    \n",
    "    # Copy biến ban đầu để so sánh\n",
    "    A_cop = T.copy()\n",
    "    c_cop = c_n.copy()\n",
    "    b_cop = b.copy()\n",
    "    \n",
    "    # Tính biến cơ sở ban đầu\n",
    "    basis = list(range(n, n + m))\n",
    "    # Chuyển về dạng chuẩn tắc\n",
    "    while True:\n",
    "        # Tìm biến vào\n",
    "        j = np.argmin(c_n)\n",
    "        \n",
    "        if c_n[j] >= 0:\n",
    "            break\n",
    "            \n",
    "        # Tìm biến ra\n",
    "        ratios = [float('inf')] * m\n",
    "        for i in range(m):\n",
    "            if T[i, j] > 0:\n",
    "                ratios[i] = b_n[i] / T[i, j]\n",
    "        \n",
    "        i = np.argmin(ratios)\n",
    "\n",
    "        # Kiểm tra bài toán không giới nội\n",
    "        if ratios[i] == float('inf'):\n",
    "            print(\"Bài toán không giới nội.\")\n",
    "            return -np.inf, None\n",
    "        \n",
    "        # Tính giá trị tối ưu\n",
    "        z += c_n[j] / T[i, j] * b_n[i]\n",
    "        # Cập nhật ma trận\n",
    "        basis[i] = j\n",
    "        \n",
    "        for k in range(m):\n",
    "            if k != i:\n",
    "                b_n[k] -= T[k, j]/T[i,j] * b_n[i]\n",
    "                T[k, :] -=  T[k, j] / T[i,j] * T[i, :]\n",
    "        \n",
    "        b_n[i] /= T[i, j]\n",
    "        T[i, :] /= T[i, j]       \n",
    "        c_n -= c_n[j] * T[i, :]\n",
    "        \n",
    "        # Kiểm tra thuật toán có hoàn thành hay không \n",
    "        # Nếu Từ vựng mới trùng với từ vựng ban đầu thì dừng thuật toán\n",
    "        if (c_n == c_cop).all() and (T == A_cop).all() and (b_n == b_cop).all():\n",
    "            print(\"Thuật toán lặp vô hạn.\")\n",
    "            return None, None\n",
    "        \n",
    "    # Tìm nghiệm tối ưu\n",
    "    x = np.zeros(n)\n",
    "    for i in range(m):\n",
    "        if basis[i] < n:\n",
    "            x[basis[i]] = b_n[i]\n",
    "                           \n",
    "    return z, x "
   ]
  },
  {
   "cell_type": "markdown",
   "id": "de0c53d7",
   "metadata": {},
   "source": [
    "#### bi >0"
   ]
  },
  {
   "cell_type": "code",
   "execution_count": 253,
   "id": "3862e22a",
   "metadata": {},
   "outputs": [
    {
     "name": "stdout",
     "output_type": "stream",
     "text": [
      "z =  -15.0\n",
      "x =  [5. 0. 3.]\n"
     ]
    }
   ],
   "source": [
    "c = np.array([-3,-1, 0])\n",
    "A = np.array([[1,2,0], [1,1,-1], [7,3,-5]])\n",
    "b = np.array([5.,2.,20.])\n",
    "z, x = dantzig_method(A, b, c)\n",
    "print(\"z = \", z)\n",
    "print(\"x = \", x)"
   ]
  },
  {
   "cell_type": "code",
   "execution_count": 254,
   "id": "ca7e9007",
   "metadata": {},
   "outputs": [
    {
     "name": "stdout",
     "output_type": "stream",
     "text": [
      "z =  -21.0\n",
      "x =  [1.5 3. ]\n"
     ]
    }
   ],
   "source": [
    "c = np.array([-4,-5])\n",
    "A = np.array([[2,2], [1,0], [0,1]])\n",
    "b = np.array([9.,4.,3.])\n",
    "z, x = dantzig_method(A, b, c)\n",
    "print(\"z = \", z)\n",
    "print(\"x = \", x)"
   ]
  },
  {
   "cell_type": "markdown",
   "id": "af78a5f6",
   "metadata": {},
   "source": [
    "#### Trường hợp không giới nội"
   ]
  },
  {
   "cell_type": "code",
   "execution_count": 255,
   "id": "b6a3c521",
   "metadata": {},
   "outputs": [
    {
     "name": "stdout",
     "output_type": "stream",
     "text": [
      "Bài toán không giới nội.\n",
      "z =  -inf\n",
      "x =  None\n"
     ]
    }
   ],
   "source": [
    "c = np.array([-1,-3,1])\n",
    "A = np.array([[2,2,-1],[3,-2,1], [1,-3,1]])\n",
    "b = np.array([10.,10., 10.])\n",
    "#c = np.array([-4, -5, 5])\n",
    "#A = np.array([[1,2,-2], [1,-1, 1], [2,1,-1], [3,4,-4]])\n",
    "#b = np.array([3,2,3,8])\n",
    "z, x = dantzig_method(A, b, c)\n",
    "print(\"z = \", z)\n",
    "print(\"x = \", x)"
   ]
  },
  {
   "cell_type": "markdown",
   "id": "5193d2f6",
   "metadata": {},
   "source": [
    "#### Trường hợp vô số nghiệm"
   ]
  },
  {
   "cell_type": "code",
   "execution_count": 258,
   "id": "30285948",
   "metadata": {},
   "outputs": [
    {
     "name": "stdout",
     "output_type": "stream",
     "text": [
      "z =  -1.0\n",
      "x =  [1. 0.]\n"
     ]
    }
   ],
   "source": [
    "c = np.array([-1, 1])\n",
    "A = np.array([[-3,-1], [-1,-2], [1,-1], [1,0], [0,1]])\n",
    "b = np.array([-3., -4., 1., 5., 5.])\n",
    "z, x = dantzig_method(A, b, c)\n",
    "print(\"z = \", z)\n",
    "print(\"x = \", x)"
   ]
  },
  {
   "cell_type": "markdown",
   "id": "7dbd374f",
   "metadata": {},
   "source": [
    "#### Trường hợp lặp vô hạn"
   ]
  },
  {
   "cell_type": "code",
   "execution_count": 239,
   "id": "199f5482",
   "metadata": {},
   "outputs": [
    {
     "name": "stdout",
     "output_type": "stream",
     "text": [
      "ratios: [0.0, 0.0, 1.0]\n",
      "ratios: [inf, 0.0, 0.09090909090909091]\n",
      "ratios: [0.0, 0.0, inf]\n",
      "ratios: [inf, 0.0, inf]\n",
      "ratios: [0.0, 0.0, inf]\n",
      "ratios: [inf, 0.0, inf]\n",
      "Thuat toan lap vo han.\n",
      "z =  None\n",
      "x =  None\n"
     ]
    }
   ],
   "source": [
    "A = np.array([[0.5, -5.5, -2.5, 9], [0.5, -1.5, -0.5, 1], [1, 0,0,0]])\n",
    "c = np.array([-10, 57, 9, 24])\n",
    "b = np.array([0.,0.,1.])\n",
    "z, x = dantzig_method(A, b, c)\n",
    "print(\"z = \", z)\n",
    "print(\"x = \", x)"
   ]
  },
  {
   "cell_type": "code",
   "execution_count": 248,
   "id": "cb5a144f",
   "metadata": {},
   "outputs": [
    {
     "name": "stdout",
     "output_type": "stream",
     "text": [
      "Ma trận A khả giải.\n"
     ]
    }
   ],
   "source": [
    "import numpy as np\n",
    "\n",
    "A = np.array([[-1,0,1], [0,3,-3], [1,1,-1], [4,-1,1], [5, -1, 0]])\n",
    "Q, R = np.linalg.qr(A)\n",
    "\n",
    "if Q.shape[1] == A.shape[1]:\n",
    "    print(\"Ma trận A khả giải.\")\n",
    "else:\n",
    "    print(\"Ma trận A không khả giải.\")"
   ]
  },
  {
   "cell_type": "code",
   "execution_count": null,
   "id": "9e7f7278",
   "metadata": {},
   "outputs": [],
   "source": []
  }
 ],
 "metadata": {
  "kernelspec": {
   "display_name": "Python 3 (ipykernel)",
   "language": "python",
   "name": "python3"
  },
  "language_info": {
   "codemirror_mode": {
    "name": "ipython",
    "version": 3
   },
   "file_extension": ".py",
   "mimetype": "text/x-python",
   "name": "python",
   "nbconvert_exporter": "python",
   "pygments_lexer": "ipython3",
   "version": "3.9.7"
  }
 },
 "nbformat": 4,
 "nbformat_minor": 5
}
