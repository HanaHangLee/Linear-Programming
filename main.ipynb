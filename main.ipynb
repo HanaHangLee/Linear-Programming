{
 "cells": [
  {
   "cell_type": "code",
   "execution_count": 775,
   "id": "02ba1415-55c7-4499-a061-7a854409253b",
   "metadata": {},
   "outputs": [],
   "source": [
    "import numpy as np\n",
    "import pandas as pd"
   ]
  },
  {
   "cell_type": "code",
   "execution_count": 780,
   "id": "1df6673c-c387-45ec-b4f2-63c2987ba8bd",
   "metadata": {},
   "outputs": [
    {
     "data": {
      "text/plain": [
       "array(['min', '-1', '2'], dtype='<U11')"
      ]
     },
     "execution_count": 780,
     "metadata": {},
     "output_type": "execute_result"
    }
   ],
   "source": [
    "objective=np.array(['min',-1,2])\n",
    "objective"
   ]
  },
  {
   "cell_type": "code",
   "execution_count": 781,
   "id": "5f992b52-55c0-4c6c-b653-22fc5f8e336f",
   "metadata": {},
   "outputs": [
    {
     "data": {
      "text/plain": [
       "array([['-1', '-2', '<=', '6'],\n",
       "       ['1', '-2', '<=', '4'],\n",
       "       ['-1', '1', '<=', '1']], dtype='<U11')"
      ]
     },
     "execution_count": 781,
     "metadata": {},
     "output_type": "execute_result"
    }
   ],
   "source": [
    "constraint=np.array([[-1,-2,'<=',6],[1,-2,'<=',4],[-1,1,'<=',1]])\n",
    "constraint"
   ]
  },
  {
   "cell_type": "code",
   "execution_count": 782,
   "id": "ea3e8dbd-5180-42ad-91fc-634cf3aec997",
   "metadata": {},
   "outputs": [
    {
     "data": {
      "text/plain": [
       "array([['1', '0', '<=', '1'],\n",
       "       ['0', '1', '<=', '1']], dtype='<U11')"
      ]
     },
     "execution_count": 782,
     "metadata": {},
     "output_type": "execute_result"
    }
   ],
   "source": [
    "condition=np.array([[1,0,'<=',1],[0,1,'<=',1]])\n",
    "condition"
   ]
  },
  {
   "cell_type": "code",
   "execution_count": 783,
   "id": "2bd8af2a-f16b-4b53-99d7-5469bdbb9210",
   "metadata": {},
   "outputs": [
    {
     "data": {
      "text/plain": [
       "(array([['min', '-1', '2', '-2']], dtype=object),\n",
       " array([['-1', '-2', '2', '<=', '6'],\n",
       "        ['1', '-2', '2', '<=', '4'],\n",
       "        ['-1', '1', '-1', '<=', '1']], dtype=object),\n",
       " array([['1', '0', 0.0, '<=', '1'],\n",
       "        ['0', '1', 0.0, '<=', '1'],\n",
       "        [0.0, 0.0, '1', '>=', 0.0]], dtype=object),\n",
       " array([[0., 0., 0., 0.],\n",
       "        [0., 0., 0., 0.]]))"
      ]
     },
     "execution_count": 783,
     "metadata": {},
     "output_type": "execute_result"
    }
   ],
   "source": [
    "def check_condition(objective, constraint, condition):\n",
    "    matrix=np.zeros([condition.shape[0],condition.shape[1]])\n",
    "    temp_objective=0\n",
    "    temp_constraint=0\n",
    "    temp_condition=0\n",
    "    flag=0\n",
    "    for i in range(condition.shape[0]):\n",
    "        for j in range(condition.shape[1]):\n",
    "            if np.diag(condition)[i] == '1':\n",
    "                if condition[i][j] == '<='and condition[:,-1][i] == '0':\n",
    "                    objective[i+1] = objective[i+1].astype(int)*-1\n",
    "                    constraint[:,i]=constraint[:,i].astype(int)*-1\n",
    "                    condition[i][j]='>='\n",
    "                if condition[i][j]=='<='and condition[:,-1][i] != '0':\n",
    "                    flag=1\n",
    "                    newcol=np.vstack([objective[i+1],objective[i+1].astype(int)*-1])\n",
    "                    temp_objective=pd.DataFrame(objective).T\n",
    "                    temp_objective.insert(i+1,None,newcol[0])\n",
    "                    temp_objective.insert(i+2,None,newcol[1])\n",
    "                    temp_objective.drop(labels=i+1,axis=1,inplace=True)\n",
    "                    #objective=temp_objective.values\n",
    "                    \n",
    "                    newcol=np.vstack([constraint[:,i],constraint[:,i].astype(int)*-1])\n",
    "                    temp_constraint=pd.DataFrame(constraint)\n",
    "                    temp_constraint.insert(i,None,newcol[0].T)\n",
    "                    temp_constraint.insert(i+1,None,newcol[1].T)\n",
    "                    temp_constraint.drop(labels=i,axis=1,inplace=True)\n",
    "                    #constraint=temp_constraint.values\n",
    "                    \n",
    "                    newcol=np.zeros(condition.shape[0])\n",
    "                    newrow=np.zeros(condition.shape[1]+1)\n",
    "                    temp_condition=pd.DataFrame(condition)\n",
    "                    temp_condition.insert(condition.shape[1]-2,None,newcol.T)\n",
    "                    temp_condition.loc[condition.shape[0]+0.5]=newrow\n",
    "                    temp_condition.iloc[-1,condition.shape[1]-1]='>='\n",
    "                    temp_condition.iloc[-1,condition.shape[1]-2]='1'\n",
    "                    #condition = np.array(temp_condition.astype(str))\n",
    "                    \n",
    "                              \n",
    "            #if condition[i][j]=='>='and condition[:,-1][i] != '0':\n",
    "    if flag >0:\n",
    "        objective=temp_objective.values\n",
    "        constraint=temp_constraint.values\n",
    "        condition=temp_condition.values\n",
    "    return objective,constraint,condition,matrix\n",
    "\n",
    "\n",
    "\n",
    "\n",
    "\n",
    "\n",
    "check_condition(objective, constraint, condition)"
   ]
  }
 ],
 "metadata": {
  "kernelspec": {
   "display_name": "Python 3 (ipykernel)",
   "language": "python",
   "name": "python3"
  },
  "language_info": {
   "codemirror_mode": {
    "name": "ipython",
    "version": 3
   },
   "file_extension": ".py",
   "mimetype": "text/x-python",
   "name": "python",
   "nbconvert_exporter": "python",
   "pygments_lexer": "ipython3",
   "version": "3.9.12"
  }
 },
 "nbformat": 4,
 "nbformat_minor": 5
}
