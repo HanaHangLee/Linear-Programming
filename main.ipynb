{
 "cells": [
  {
   "cell_type": "code",
   "execution_count": 785,
   "id": "02ba1415-55c7-4499-a061-7a854409253b",
   "metadata": {},
   "outputs": [],
   "source": [
    "import numpy as np\n",
    "import pandas as pd"
   ]
  },
  {
   "cell_type": "code",
   "execution_count": 1079,
   "id": "1df6673c-c387-45ec-b4f2-63c2987ba8bd",
   "metadata": {},
   "outputs": [
    {
     "name": "stderr",
     "output_type": "stream",
     "text": [
      "C:\\Users\\maith\\AppData\\Local\\Temp\\ipykernel_12896\\494843975.py:1: DeprecationWarning: `np.object` is a deprecated alias for the builtin `object`. To silence this warning, use `object` by itself. Doing this will not modify any behavior and is safe. \n",
      "Deprecated in NumPy 1.20; for more details and guidance: https://numpy.org/devdocs/release/1.20.0-notes.html#deprecations\n",
      "  objective=np.array([['min',-1,2]], dtype=np.object)\n"
     ]
    },
    {
     "data": {
      "text/plain": [
       "array([['min', -1, 2]], dtype=object)"
      ]
     },
     "execution_count": 1079,
     "metadata": {},
     "output_type": "execute_result"
    }
   ],
   "source": [
    "objective=np.array([['min',-1,2]], dtype=np.object)\n",
    "objective"
   ]
  },
  {
   "cell_type": "code",
   "execution_count": 1080,
   "id": "5f992b52-55c0-4c6c-b653-22fc5f8e336f",
   "metadata": {},
   "outputs": [
    {
     "name": "stderr",
     "output_type": "stream",
     "text": [
      "C:\\Users\\maith\\AppData\\Local\\Temp\\ipykernel_12896\\876874134.py:1: DeprecationWarning: `np.object` is a deprecated alias for the builtin `object`. To silence this warning, use `object` by itself. Doing this will not modify any behavior and is safe. \n",
      "Deprecated in NumPy 1.20; for more details and guidance: https://numpy.org/devdocs/release/1.20.0-notes.html#deprecations\n",
      "  constraint=np.array([[-1,-2,'<=',6],[1,-2,'<=',4],[-1,1,'<=',1]], dtype=np.object)\n"
     ]
    },
    {
     "data": {
      "text/plain": [
       "array([[-1, -2, '<=', 6],\n",
       "       [1, -2, '<=', 4],\n",
       "       [-1, 1, '<=', 1]], dtype=object)"
      ]
     },
     "execution_count": 1080,
     "metadata": {},
     "output_type": "execute_result"
    }
   ],
   "source": [
    "constraint=np.array([[-1,-2,'<=',6],[1,-2,'<=',4],[-1,1,'<=',1]], dtype=np.object)\n",
    "constraint"
   ]
  },
  {
   "cell_type": "code",
   "execution_count": 1081,
   "id": "ea3e8dbd-5180-42ad-91fc-634cf3aec997",
   "metadata": {},
   "outputs": [
    {
     "name": "stderr",
     "output_type": "stream",
     "text": [
      "C:\\Users\\maith\\AppData\\Local\\Temp\\ipykernel_12896\\2516045595.py:1: DeprecationWarning: `np.object` is a deprecated alias for the builtin `object`. To silence this warning, use `object` by itself. Doing this will not modify any behavior and is safe. \n",
      "Deprecated in NumPy 1.20; for more details and guidance: https://numpy.org/devdocs/release/1.20.0-notes.html#deprecations\n",
      "  condition=np.array([[1,0,'<=',6],[0,1,'<=',9]], dtype=np.object)\n"
     ]
    },
    {
     "data": {
      "text/plain": [
       "array([[1, 0, '<=', 6],\n",
       "       [0, 1, '<=', 9]], dtype=object)"
      ]
     },
     "execution_count": 1081,
     "metadata": {},
     "output_type": "execute_result"
    }
   ],
   "source": [
    "condition=np.array([[1,0,'<=',6],[0,1,'<=',9]], dtype=np.object)\n",
    "condition"
   ]
  },
  {
   "cell_type": "code",
   "execution_count": 1082,
   "id": "11c8aaa7-2558-4853-a075-cfe5b7ddab25",
   "metadata": {},
   "outputs": [
    {
     "data": {
      "text/plain": [
       "(array([['min', -1, 1, -2, 2]], dtype=object),\n",
       " array([[-1, 1, -1, -2, '<=', 6],\n",
       "        [1, -1, 1, -2, '<=', 4],\n",
       "        [-1, 1, -1, 1, '<=', 1],\n",
       "        [1, -1, 1, 0, '<=', 6],\n",
       "        [0, 1, -1, 0.0, '<=', 9]], dtype=object),\n",
       " array([[1, 0, 0.0, 0.0, '>=', 0],\n",
       "        [0, 1, 0.0, 0.0, '>=', 0],\n",
       "        [0.0, 0.0, 1.0, 0.0, '>=', 0.0],\n",
       "        [0.0, 0.0, 0.0, 1.0, '>=', 0.0]], dtype=object))"
      ]
     },
     "execution_count": 1082,
     "metadata": {},
     "output_type": "execute_result"
    }
   ],
   "source": [
    "def check_condition(objective, constraint, condition):\n",
    "    \n",
    "    for i in range(condition.shape[0]):\n",
    "        for j in range(condition.shape[1]):\n",
    "            if np.diag(condition)[i] == 1:\n",
    "                if condition[i][j] == '<='and condition[:,-1][i] == 0  :\n",
    "                    objective[:,i+1] = objective[:,i+1]*-1\n",
    "                    constraint[:,i]=constraint[:,i]*-1\n",
    "                    condition[i][j] = '>='\n",
    "                elif condition[i][j]=='<='and condition[:,-1][i] != 0 :\n",
    "                    newcol=np.vstack([objective[:,2*i+1],objective[:,2*i+1]*-1])\n",
    "                    temp_objective=pd.DataFrame(objective)\n",
    "                    temp_objective.insert(2*i+1,None,newcol[0].T)\n",
    "                    temp_objective.insert(i+2,None,newcol[1].T)\n",
    "                    temp_objective.drop(labels=2*i+1,axis=1,inplace=True)\n",
    "                    objective=temp_objective.values\n",
    "                    \n",
    "                    newrow= condition[i,:]\n",
    "                    temp_constraint=pd.DataFrame(constraint)\n",
    "                    temp_constraint.loc[temp_constraint.shape[0]+0.5]=newrow\n",
    "                    constraint= np.vstack([constraint, newrow])\n",
    "                    newcol=np.vstack([constraint[:,i],constraint[:,i]*-1])\n",
    "                    temp_constraint.insert(2*i,None,newcol[0].T)\n",
    "                    temp_constraint.insert(2*i+1,None,newcol[1].T)\n",
    "                    temp_constraint.drop(labels=i,axis=1,inplace=True)\n",
    "                    constraint=temp_constraint.values\n",
    "                    \n",
    "                    newcol=np.zeros(condition.shape[0])\n",
    "                    newrow=np.zeros(condition.shape[1]+1)\n",
    "                    temp_condition=pd.DataFrame(condition)\n",
    "                    temp_condition.insert(condition.shape[1]-2,None,newcol.T)\n",
    "                    temp_condition.loc[condition.shape[0]]=newrow\n",
    "                    temp_condition.iloc[-1,condition.shape[1]-1]='>='\n",
    "                    temp_condition.iloc[-1,condition.shape[1]-2]=1\n",
    "                    temp_condition.iloc[i,condition.shape[1]]=0\n",
    "                    temp_condition.iloc[i,condition.shape[1]-1]='>='\n",
    "                    condition = np.array(temp_condition)\n",
    "                    \n",
    "                              \n",
    "            #if condition[i][j]=='>='and condition[:,-1][i] != '0':\n",
    "    \n",
    "        \n",
    "    return objective,constraint,condition\n",
    "\n",
    "\n",
    "\n",
    "\n",
    "\n",
    "\n",
    "\n",
    "check_condition(objective, constraint, condition)"
   ]
  }
 ],
 "metadata": {
  "kernelspec": {
   "display_name": "Python 3 (ipykernel)",
   "language": "python",
   "name": "python3"
  },
  "language_info": {
   "codemirror_mode": {
    "name": "ipython",
    "version": 3
   },
   "file_extension": ".py",
   "mimetype": "text/x-python",
   "name": "python",
   "nbconvert_exporter": "python",
   "pygments_lexer": "ipython3",
   "version": "3.9.12"
  }
 },
 "nbformat": 4,
 "nbformat_minor": 5
}
