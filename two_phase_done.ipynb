{
 "cells": [
  {
   "attachments": {},
   "cell_type": "markdown",
   "id": "f8cd73bf",
   "metadata": {},
   "source": [
    "### Phương pháp Đơn hình Dantzig (Trường hợp bi > 0)"
   ]
  },
  {
   "cell_type": "code",
   "execution_count": 3,
   "id": "eacf326b",
   "metadata": {},
   "outputs": [],
   "source": [
    "import numpy as np\n",
    "from sympy import*\n",
    "import math"
   ]
  },
  {
   "cell_type": "code",
   "execution_count": 4,
   "id": "2598ec00",
   "metadata": {},
   "outputs": [],
   "source": [
    "from decimal import Decimal, getcontext \n",
    "\n",
    "# Set global precision for decimal calculation\n",
    "getcontext().prec = 20"
   ]
  },
  {
   "attachments": {},
   "cell_type": "markdown",
   "id": "7a634194",
   "metadata": {},
   "source": [
    "### Sử dụng thư viện Scipy"
   ]
  },
  {
   "cell_type": "code",
   "execution_count": 5,
   "id": "7183135a",
   "metadata": {},
   "outputs": [],
   "source": [
    "import numpy as np\n",
    "from scipy.optimize import linprog"
   ]
  },
  {
   "cell_type": "code",
   "execution_count": 6,
   "id": "43b61d05",
   "metadata": {},
   "outputs": [],
   "source": [
    "A = np.array([[0.5, -5.5, -2.5, 9], [0.5, -1.5, -0.5, 1], [1, 0, 0, 0]])\n",
    "c = np.array([-10, 57, 9, 24])\n",
    "b = np.array([0, 0 ,1])\n",
    "bounds = [(0, None), (0, None), (0, None), (0, None)]\n",
    "constraints = [{'type': 'ineq', 'fun': lambda x: b - A.dot(x)}]"
   ]
  },
  {
   "cell_type": "code",
   "execution_count": 7,
   "id": "8581ed15",
   "metadata": {},
   "outputs": [],
   "source": [
    "res = linprog(c, A_ub=A, b_ub=b, method='highs')"
   ]
  },
  {
   "cell_type": "code",
   "execution_count": 8,
   "id": "82d2f45e",
   "metadata": {},
   "outputs": [
    {
     "name": "stdout",
     "output_type": "stream",
     "text": [
      "        message: Optimization terminated successfully. (HiGHS Status 7: Optimal)\n",
      "        success: True\n",
      "         status: 0\n",
      "            fun: -1.0\n",
      "              x: [ 1.000e+00  0.000e+00  1.000e+00  0.000e+00]\n",
      "            nit: 1\n",
      "          lower:  residual: [ 1.000e+00  0.000e+00  1.000e+00  0.000e+00]\n",
      "                 marginals: [ 0.000e+00  3.000e+01  0.000e+00  4.200e+01]\n",
      "          upper:  residual: [       inf        inf        inf        inf]\n",
      "                 marginals: [ 0.000e+00  0.000e+00  0.000e+00  0.000e+00]\n",
      "          eqlin:  residual: []\n",
      "                 marginals: []\n",
      "        ineqlin:  residual: [ 2.000e+00  0.000e+00  0.000e+00]\n",
      "                 marginals: [-0.000e+00 -1.800e+01 -1.000e+00]\n",
      " mip_node_count: 0\n",
      " mip_dual_bound: 0.0\n",
      "        mip_gap: 0.0\n"
     ]
    }
   ],
   "source": [
    "print(res)"
   ]
  },
  {
   "attachments": {},
   "cell_type": "markdown",
   "id": "1163e7a3",
   "metadata": {},
   "source": [
    "### Sử dụng thư viện để kiểm tra"
   ]
  },
  {
   "cell_type": "code",
   "execution_count": 9,
   "id": "e69ce2de",
   "metadata": {},
   "outputs": [
    {
     "name": "stdout",
     "output_type": "stream",
     "text": [
      "Nghiệm tối ưu:  [5. 4.]\n",
      "Giá trị hàm mục tiêu tối ưu:  -1.0\n"
     ]
    }
   ],
   "source": [
    "from scipy.optimize import linprog\n",
    "import numpy as np\n",
    "# Hàm mục tiêu và ràng buộc của bài toán tối ưu hóa\n",
    "#c = [1, -2, 3]\n",
    "#A = [[-1, 2, -3], [4, -5, 6], [-7, 8, -9]]\n",
    "#b = [-1, 2, -3]\n",
    "A = np.array([[-3,-1], [-1,-2], [1,-1], [1,0], [0,1]])\n",
    "c = np.array([-1,1])\n",
    "b = np.array([-3.,-4.,1.,5.,5.])\n",
    "\n",
    "\n",
    "# Giải bài toán tối ưu hóa bằng phương pháp đơn hình Bland\n",
    "# res = linprog(c, A_ub=A, b_ub=b, method='highs', options={'bland': True})\n",
    "res = linprog(c, A_ub=A, b_ub=b, method='highs', options={'presolve': True})\n",
    "\n",
    "\n",
    "# In kết quả\n",
    "print('Nghiệm tối ưu: ', res.x)\n",
    "print('Giá trị hàm mục tiêu tối ưu: ', res.fun)"
   ]
  },
  {
   "cell_type": "code",
   "execution_count": 10,
   "id": "79e35181",
   "metadata": {},
   "outputs": [],
   "source": [
    "import numpy as np\n",
    "\n",
    "# A: ma trận chưa hệ của của các biến trong các ràng buộc\n",
    "# b: mảng chứa các giá trị bi\n",
    "# c: mảng chứa hệ số các biến trong hàm mục tiêu\n",
    "\n",
    "def dantzig_method(A, b, c):\n",
    "    m, n = A.shape\n",
    "\n",
    "    # Khởi tạo biến giá trị tối ưu\n",
    "    z = 0 \n",
    "    \n",
    "    # Tính ma trận bổ sung\n",
    "    T = np.hstack((A, np.eye(m)))\n",
    "    c_n = np.concatenate((c, np.zeros(m)))\n",
    "    b_n = b.copy()\n",
    "    \n",
    "    # Copy biến ban đầu để so sánh\n",
    "    A_cop = T.copy()\n",
    "    c_cop = c_n.copy()\n",
    "    b_cop = b.copy()\n",
    "    \n",
    "    # Tính biến cơ sở ban đầu\n",
    "    basis = list(range(n, n + m))\n",
    "    # Chuyển về dạng chuẩn tắc\n",
    "    while True:\n",
    "        # Tìm biến vào\n",
    "        j = np.argmin(c_n)\n",
    "        \n",
    "        if c_n[j] >= 0:\n",
    "            break\n",
    "            \n",
    "        # Tìm biến ra\n",
    "        ratios = [float('inf')] * m\n",
    "        for i in range(m):\n",
    "            if T[i, j] > 0:\n",
    "                ratios[i] = b_n[i] / T[i, j]\n",
    "        \n",
    "        i = np.argmin(ratios)\n",
    "\n",
    "        # Kiểm tra bài toán không giới nội\n",
    "        if ratios[i] == float('inf'):\n",
    "            print(\"Bài toán không giới nội.\")\n",
    "            return -np.inf, None\n",
    "        \n",
    "        # Tính giá trị tối ưu\n",
    "        z += c_n[j] / T[i, j] * b_n[i]\n",
    "        # Cập nhật ma trận\n",
    "        basis[i] = j\n",
    "        \n",
    "        for k in range(m):\n",
    "            if k != i:\n",
    "                b_n[k] -= T[k, j]/T[i,j] * b_n[i]\n",
    "                T[k, :] -=  T[k, j] / T[i,j] * T[i, :]\n",
    "        \n",
    "        b_n[i] /= T[i, j]\n",
    "        T[i, :] /= T[i, j]       \n",
    "        c_n -= c_n[j] * T[i, :]\n",
    "        # Kiểm tra thuật toán có hoàn thành hay không \n",
    "        # Nếu Từ vựng mới trùng với từ vựng ban đầu thì dừng thuật toán\n",
    "        if (c_n == c_cop).all() and (T == A_cop).all() and (b_n == b_cop).all():\n",
    "            print(\"Thuật toán lặp vô hạn.\")\n",
    "            return None, None\n",
    "        \n",
    "    # Tìm nghiệm tối ưu\n",
    "    x = np.zeros(n)\n",
    "    for i in range(m):\n",
    "        if basis[i] < n:\n",
    "            x[basis[i]] = b_n[i]\n",
    "                           \n",
    "    return z, x "
   ]
  },
  {
   "attachments": {},
   "cell_type": "markdown",
   "id": "de0c53d7",
   "metadata": {},
   "source": [
    "#### bi >0"
   ]
  },
  {
   "cell_type": "code",
   "execution_count": 11,
   "id": "3862e22a",
   "metadata": {},
   "outputs": [
    {
     "name": "stdout",
     "output_type": "stream",
     "text": [
      "z =  -15.0\n",
      "x =  [5. 0. 3.]\n"
     ]
    }
   ],
   "source": [
    "c = np.array([-3,-1, 0])\n",
    "A = np.array([[1,2,0], [1,1,-1], [7,3,-5]])\n",
    "b = np.array([5.,2.,20.])\n",
    "z, x = dantzig_method(A, b, c)\n",
    "print(\"z = \", z)\n",
    "print(\"x = \", x)"
   ]
  },
  {
   "cell_type": "code",
   "execution_count": 12,
   "id": "ca7e9007",
   "metadata": {},
   "outputs": [
    {
     "name": "stdout",
     "output_type": "stream",
     "text": [
      "z =  -21.0\n",
      "x =  [1.5 3. ]\n"
     ]
    }
   ],
   "source": [
    "c = np.array([-4,-5])\n",
    "A = np.array([[2,2], [1,0], [0,1]])\n",
    "b = np.array([9.,4.,3.])\n",
    "z, x = dantzig_method(A, b, c)\n",
    "print(\"z = \", z)\n",
    "print(\"x = \", x)"
   ]
  },
  {
   "cell_type": "code",
   "execution_count": 13,
   "id": "1f103bb5",
   "metadata": {},
   "outputs": [
    {
     "name": "stdout",
     "output_type": "stream",
     "text": [
      "z =  -1.0\n",
      "x =  [1. 0.]\n"
     ]
    }
   ],
   "source": [
    "A = np.array([[-3,-1], [-1,-2], [1,-1], [1,0], [0,1]])\n",
    "c = np.array([-1,1])\n",
    "b = np.array([-3.,-4.,1.,5.,5.])\n",
    "\n",
    "z, x = dantzig_method(A, b, c)\n",
    "print(\"z = \", z)\n",
    "print(\"x = \", x)"
   ]
  },
  {
   "cell_type": "code",
   "execution_count": null,
   "id": "3e5af3b0",
   "metadata": {},
   "outputs": [],
   "source": []
  },
  {
   "attachments": {},
   "cell_type": "markdown",
   "id": "af78a5f6",
   "metadata": {},
   "source": [
    "#### Trường hợp không giới nội"
   ]
  },
  {
   "cell_type": "code",
   "execution_count": 14,
   "id": "b6a3c521",
   "metadata": {},
   "outputs": [
    {
     "name": "stdout",
     "output_type": "stream",
     "text": [
      "Bài toán không giới nội.\n",
      "z =  -inf\n",
      "x =  None\n"
     ]
    }
   ],
   "source": [
    "c = np.array([-1,-3,1])\n",
    "A = np.array([[2,2,-1],[3,-2,1], [1,-3,1]])\n",
    "b = np.array([10.,10., 10.])\n",
    "#c = np.array([-4, -5, 5])\n",
    "#A = np.array([[1,2,-2], [1,-1, 1], [2,1,-1], [3,4,-4]])\n",
    "#b = np.array([3,2,3,8])\n",
    "z, x = dantzig_method(A, b, c)\n",
    "print(\"z = \", z)\n",
    "print(\"x = \", x)"
   ]
  },
  {
   "attachments": {},
   "cell_type": "markdown",
   "id": "5193d2f6",
   "metadata": {},
   "source": [
    "#### Trường hợp vô số nghiệm"
   ]
  },
  {
   "attachments": {},
   "cell_type": "markdown",
   "id": "7dbd374f",
   "metadata": {},
   "source": [
    "#### Trường hợp lặp vô hạn"
   ]
  },
  {
   "cell_type": "code",
   "execution_count": 16,
   "id": "199f5482",
   "metadata": {},
   "outputs": [
    {
     "name": "stdout",
     "output_type": "stream",
     "text": [
      "Thuật toán lặp vô hạn.\n",
      "z =  None\n",
      "x =  None\n"
     ]
    }
   ],
   "source": [
    "A = np.array([[0.5, -5.5, -2.5, 9], [0.5, -1.5, -0.5, 1], [1, 0,0,0]])\n",
    "c = np.array([-10, 57, 9, 24])\n",
    "b = np.array([0.,0.,1.])\n",
    "z, x = dantzig_method(A, b, c)\n",
    "print(\"z = \", z)\n",
    "print(\"x = \", x)"
   ]
  },
  {
   "cell_type": "code",
   "execution_count": 17,
   "id": "cb5a144f",
   "metadata": {},
   "outputs": [
    {
     "name": "stdout",
     "output_type": "stream",
     "text": [
      "Ma trận A khả giải.\n"
     ]
    }
   ],
   "source": [
    "import numpy as np\n",
    "\n",
    "A = np.array([[-1,0,1], [0,3,-3], [1,1,-1], [4,-1,1], [5, -1, 0]])\n",
    "Q, R = np.linalg.qr(A)\n",
    "\n",
    "if Q.shape[1] == A.shape[1]:\n",
    "    print(\"Ma trận A khả giải.\")\n",
    "else:\n",
    "    print(\"Ma trận A không khả giải.\")"
   ]
  },
  {
   "attachments": {},
   "cell_type": "markdown",
   "id": "feef57a9",
   "metadata": {},
   "source": [
    "\n",
    "### Trường hợp 2 pha"
   ]
  },
  {
   "cell_type": "code",
   "execution_count": 136,
   "id": "9e7f7278",
   "metadata": {},
   "outputs": [],
   "source": [
    "def two_phases(A,b,c):\n",
    "\n",
    "    m, n = A.shape\n",
    "    # Khởi tạo biến giá trị tối ưu\n",
    "    z = 0\n",
    "    # Tính ma trận bổ sung có chứa x0\n",
    "    c1 = np.concatenate((np.ones(1), np.zeros(m+n)))\n",
    "    new_col = (-1*np.ones(m)).reshape(-1, 1)\n",
    "    T = np.hstack((new_col,np.hstack((A, np.eye(m)))))\n",
    "    b_n = b.copy()\n",
    "\n",
    "\n",
    "    # Copy biến ban đầu để so sánh\n",
    "    A_cop = T.copy()\n",
    "    c_cop = c1.copy()\n",
    "    b_cop = b.copy()\n",
    "\n",
    "    # Tính biến cơ sở ban đầu\n",
    "    basis = list(range(n+1, n + m+1))\n",
    "    # Chuyển về dạng chuẩn tắc\n",
    "\n",
    "    #Chọn biến vào\n",
    "    j = 0\n",
    "    #Tìm biến ra\n",
    "    i = np.argmin(b_n)\n",
    "\n",
    "    \n",
    "    # Tính giá trị tối ưu\n",
    "    z += c1[j] / T[i, j] * b_n[i]\n",
    "    # Cập nhật ma trận\n",
    "    basis[i] = j\n",
    "    \n",
    "    for k in range(m):\n",
    "        if k != i:\n",
    "            b_n[k] -= T[k, j]/T[i,j] * b_n[i]\n",
    "            T[k, :] -=  T[k, j] / T[i,j] * T[i, :]\n",
    "    \n",
    "    b_n[i] /= T[i, j]\n",
    "    T[i, :] /= T[i, j]       \n",
    "    c1 -= c1[j] * T[i, :]\n",
    "\n",
    "    #phase 1\n",
    "    while True:\n",
    "        # Tìm biến vào\n",
    "        j = np.argmin(c1)\n",
    "        \n",
    "        if c1[j] >= 0:\n",
    "            break\n",
    "            \n",
    "        # Tìm biến ra\n",
    "        ratios = [float('inf')] * m\n",
    "        for i in range(m):\n",
    "            if T[i, j] > 0:\n",
    "                ratios[i] = b_n[i] / T[i, j]\n",
    "        \n",
    "        i = np.argmin(ratios)\n",
    "\n",
    "        # Kiểm tra bài toán không giới nội hoặc từ vựng tối ưu\n",
    "        if ratios[i] == float('inf'):\n",
    "            return -np.inf, None\n",
    "        \n",
    "        # Tính giá trị tối ưu\n",
    "        z += c1[j] / T[i, j] * b_n[i]\n",
    "        # Cập nhật ma trận\n",
    "        basis[i] = j\n",
    "        \n",
    "        for k in range(m):\n",
    "            if k != i:\n",
    "                b_n[k] -= T[k, j]/T[i,j] * b_n[i]\n",
    "                T[k, :] -=  T[k, j] / T[i,j] * T[i, :]\n",
    "        \n",
    "        b_n[i] /= T[i, j]\n",
    "        T[i, :] /= T[i, j]       \n",
    "        c1 -= c1[j] * T[i, :]\n",
    "        # Kiểm tra thuật toán có hoàn thành hay không \n",
    "        # Nếu Từ vựng mới trùng với từ vựng ban đầu thì dừng thuật toán\n",
    "        if (c1 == c_cop).all() and (T == A_cop).all() and (b_n == b_cop).all():\n",
    "            print(\"Thuật toán lặp vô hạn.\")\n",
    "            return None, None\n",
    "        \n",
    "    #Kiểm tra bài toán có nghiệm khi hoàn thành phase 1\n",
    "    if np.array_equal(c1,c_cop) == False:\n",
    "        return None, None\n",
    "    #Thiết lập hàm mục tiêu cho phase 2\n",
    "    # c_n = np.concatenate((np.zeros(len(c)), np.zeros(m)))\n",
    "    c_n = np.zeros(m+n) # trường hợp các biến trên hàm mục tiêu không đủ\n",
    "\n",
    "    #loại bỏ x0\n",
    "    T = T[:, 1:]\n",
    "    T_z = T.copy()\n",
    "    for i in range(m):\n",
    "        if basis[i] <= n:\n",
    "            T_z[i,basis[i]-1] = 0 # làm mất biến thay vào khi thêm vào hàm mục tiêu\n",
    "            c_n += c[basis[i]-1] * T_z[i,:] #vì basis có tính 0\n",
    "            z += c[basis[i]-1] * b_n[i]\n",
    "    #Cập nhật giá trị z cho phase 2\n",
    "    c_n *= -1\n",
    "    #Cập nhật lại basis\n",
    "    basis -= np.ones(len(basis))\n",
    "    #phase 2\n",
    "\n",
    "    while True:\n",
    "        # Tìm biến vào\n",
    "        j = np.argmin(c_n)\n",
    "        \n",
    "        if c_n[j] >= 0:\n",
    "            break\n",
    "            \n",
    "        # Tìm biến ra\n",
    "        ratios = [float('inf')] * m\n",
    "        for i in range(m):\n",
    "            if T[i, j] > 0:\n",
    "                ratios[i] = b_n[i] / T[i, j]\n",
    "        \n",
    "        i = np.argmin(ratios)\n",
    "\n",
    "        # Kiểm tra bài toán không giới nội\n",
    "        if ratios[i] == float('inf'):\n",
    "            print(\"Bài toán không giới nội.\")\n",
    "            return -np.inf, None\n",
    "        \n",
    "        # Tính giá trị tối ưu\n",
    "        z += c_n[j] / T[i, j] * b_n[i]\n",
    "        # Cập nhật ma trận\n",
    "        basis[i] = j\n",
    "        \n",
    "        for k in range(m):\n",
    "            if k != i:\n",
    "                # x1 = T[k, j]/T[i,j]\n",
    "                # x2 = b_n[i]\n",
    "                # b_n[k] -= np.multiply(x1,x2)\n",
    "                b_n[k] -= (T[k, j]/T[i,j]) * b_n[i]\n",
    "                T[k, :] -=  T[k, j] / T[i,j] * T[i, :]\n",
    "        \n",
    "        b_n[i] /= T[i, j]\n",
    "        T[i, :] /= T[i, j]\n",
    "        c_n -= c_n[j] * T[i, :]\n",
    "        # Kiểm tra thuật toán có hoàn thành hay không \n",
    "        # Nếu Từ vựng mới trùng với từ vựng ban đầu thì dừng thuật toán\n",
    "        if np.array_equal(c_n, c_cop) and np.array_equal(T, A_cop) and np.array_equal(b_n, b_cop):\n",
    "            print(\"Thuật toán lặp vô hạn.\")\n",
    "            # Thêm bland vào đây\n",
    "            return None, None\n",
    "        \n",
    "    # Tìm nghiệm tối ưu\n",
    "    x = np.zeros(n)\n",
    "    for i in range(m):\n",
    "        if basis[i] < n:\n",
    "            if i <= len(b_n):\n",
    "                x[int(basis[i])] = b_n[i]\n",
    "            else:\n",
    "                x[int(basis[i])] = 0\n",
    "            # try:\n",
    "            #     idx = int(basis[i])\n",
    "            #     if idx < 0 or idx >= len(x):\n",
    "            #         raise IndexError\n",
    "            #     x[idx] = b_n[i]\n",
    "            # except (IndexError, ValueError):\n",
    "            #     print(f\"Invalid basis index at i = {i}\")\n",
    "            #     x[basis[i]] = 0      \n",
    "\n",
    "\n",
    "\n",
    "\n",
    "    return z, x  \n"
   ]
  },
  {
   "cell_type": "code",
   "execution_count": null,
   "id": "dc10808b",
   "metadata": {},
   "outputs": [],
   "source": []
  },
  {
   "cell_type": "code",
   "execution_count": 137,
   "id": "ff70c1a5",
   "metadata": {},
   "outputs": [
    {
     "name": "stdout",
     "output_type": "stream",
     "text": [
      "z =  3.0\n",
      "x =  [0.  0.5 1.5]\n"
     ]
    }
   ],
   "source": [
    "A = np.array([[-1,-1,-1], [2,-1,1]])\n",
    "c = np.array([-2,6,0])\n",
    "b = np.array([-2,1])\n",
    "b = b.astype(np.float64)\n",
    "z, x = two_phases(A, b, c)\n",
    "z = round(z,3)\n",
    "print(\"z = \", z)\n",
    "print(\"x = \", x)"
   ]
  },
  {
   "cell_type": "code",
   "execution_count": 138,
   "id": "36cc7f9f",
   "metadata": {},
   "outputs": [
    {
     "name": "stdout",
     "output_type": "stream",
     "text": [
      "z =  -1.0\n",
      "x =  [2. 1.]\n"
     ]
    }
   ],
   "source": [
    "A = np.array([[-3,-1], [-1,-2], [1,-1], [1,0], [0,1]])\n",
    "c = np.array([-1,1])\n",
    "b = np.array([-3.,-4.,1.,5.,5.])\n",
    "b = b.astype(np.float64)\n",
    "z, x = two_phases(A, b, c)\n",
    "z = round(z,3)\n",
    "print(\"z = \", z)\n",
    "print(\"x = \", x)"
   ]
  },
  {
   "cell_type": "code",
   "execution_count": 139,
   "id": "918deb12",
   "metadata": {},
   "outputs": [
    {
     "name": "stdout",
     "output_type": "stream",
     "text": [
      "z =  9.0\n",
      "x =  [1. 2.]\n"
     ]
    }
   ],
   "source": [
    "A = np.array([[-4,1], [1,1], [-1,-1], [-3,2]])\n",
    "c = np.array([23,-7])\n",
    "b = np.array([-2,5.,-1.,1.])\n",
    "b = b.astype(np.float64)\n",
    "z, x = two_phases(A, b, c)\n",
    "z = round(z,3)\n",
    "print(\"z = \", z)\n",
    "print(\"x = \", x)"
   ]
  },
  {
   "attachments": {},
   "cell_type": "markdown",
   "id": "e8979ba1",
   "metadata": {},
   "source": [
    "### Trường hợp vô nghiệm"
   ]
  },
  {
   "cell_type": "code",
   "execution_count": 142,
   "id": "61363474",
   "metadata": {},
   "outputs": [
    {
     "name": "stdout",
     "output_type": "stream",
     "text": [
      "z =  None\n",
      "x =  None\n"
     ]
    }
   ],
   "source": [
    "A = np.array([[-1,-1], [1,1]])\n",
    "c = np.array([23,-7])\n",
    "b = np.array([- 5.,1.])\n",
    "b = b.astype(np.float64)\n",
    "z, x = two_phases(A, b, c)\n",
    "if (z != None):\n",
    "    z = round(z,3)\n",
    "print(\"z = \", z)\n",
    "print(\"x = \", x)"
   ]
  },
  {
   "attachments": {},
   "cell_type": "markdown",
   "id": "34eafc83",
   "metadata": {},
   "source": [
    "### Trường hợp bài toán không giới nội"
   ]
  },
  {
   "cell_type": "code",
   "execution_count": 143,
   "id": "c0975616",
   "metadata": {},
   "outputs": [
    {
     "name": "stdout",
     "output_type": "stream",
     "text": [
      "Bài toán không giới nội.\n",
      "z =  -inf\n",
      "x =  None\n"
     ]
    }
   ],
   "source": [
    "A = np.array([[-2,1], [-1,-2]])\n",
    "c = np.array([1,-1])\n",
    "b = np.array([-1.,-2.])\n",
    "b = b.astype(np.float64)\n",
    "z, x = two_phases(A, b, c)\n",
    "if (z != None):\n",
    "    z = round(z,3)\n",
    "print(\"z = \", z)\n",
    "print(\"x = \", x)"
   ]
  },
  {
   "cell_type": "code",
   "execution_count": null,
   "id": "c1b5d90d",
   "metadata": {},
   "outputs": [],
   "source": []
  }
 ],
 "metadata": {
  "kernelspec": {
   "display_name": "Python 3 (ipykernel)",
   "language": "python",
   "name": "python3"
  },
  "language_info": {
   "codemirror_mode": {
    "name": "ipython",
    "version": 3
   },
   "file_extension": ".py",
   "mimetype": "text/x-python",
   "name": "python",
   "nbconvert_exporter": "python",
   "pygments_lexer": "ipython3",
   "version": "3.10.8"
  }
 },
 "nbformat": 4,
 "nbformat_minor": 5
}
