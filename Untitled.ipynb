{
 "cells": [
  {
   "cell_type": "markdown",
   "id": "a1c24126",
   "metadata": {},
   "source": [
    "Nhập hàm mục tiêu"
   ]
  },
  {
   "cell_type": "code",
   "execution_count": 49,
   "id": "515aeb5e",
   "metadata": {},
   "outputs": [
    {
     "name": "stdout",
     "output_type": "stream",
     "text": [
      "Nhập biểu thức: 3*x1-10\n",
      "Các đơn thức trong biểu thức là:\n",
      "((1,), 3)\n",
      "((0,), -10)\n",
      "[[3 -10]]\n"
     ]
    }
   ],
   "source": [
    "from sympy import *\n",
    "\n",
    "# Nhập biểu thức\n",
    "expr = input(\"Nhập biểu thức: \")\n",
    "\n",
    "# Chuyển đổi biểu thức thành dạng đơn thức\n",
    "poly = Poly(expr)\n",
    "\n",
    "# In ra từng đơn thức\n",
    "print(\"Các đơn thức trong biểu thức là:\")\n",
    "results = []\n",
    "for term in poly.terms():\n",
    "    a = term\n",
    "    results.append(a)\n",
    "    print(term)\n",
    "#     print(i)\n",
    "#     i+=1\n",
    "\n",
    "# Tạo một list chứa các giá trị\n",
    "data = [t[1] for t in results]\n",
    "\n",
    "# Chuyển kết quả thành numpy array\n",
    "array_object = np.array([data])\n",
    "\n",
    "# In numpy array\n",
    "print(array_object)"
   ]
  },
  {
   "cell_type": "code",
   "execution_count": null,
   "id": "658548d0",
   "metadata": {},
   "outputs": [],
   "source": []
  },
  {
   "cell_type": "code",
   "execution_count": null,
   "id": "80430fbe",
   "metadata": {},
   "outputs": [],
   "source": []
  },
  {
   "cell_type": "markdown",
   "id": "6dee3779",
   "metadata": {},
   "source": [
    "Nhập các ràng buộc chứa các phép so sánh"
   ]
  },
  {
   "cell_type": "code",
   "execution_count": null,
   "id": "9596a3b4",
   "metadata": {},
   "outputs": [],
   "source": []
  },
  {
   "cell_type": "code",
   "execution_count": null,
   "id": "de322600",
   "metadata": {},
   "outputs": [],
   "source": []
  },
  {
   "cell_type": "code",
   "execution_count": 50,
   "id": "4b10f720",
   "metadata": {},
   "outputs": [
    {
     "name": "stdout",
     "output_type": "stream",
     "text": [
      "Mảng ràng buộc: \n",
      "[[1. 2. 3.]\n",
      " [4. 5. 6.]\n",
      " [7. 8. 9.]]\n"
     ]
    }
   ],
   "source": [
    "import numpy as np\n",
    "\n",
    "# Nhập số lượng ràng buộc và số chiều của mảng\n",
    "num_constraints = 3\n",
    "num_dimensions = 2\n",
    "\n",
    "# Khởi tạo mảng numpy với kích thước tương ứng\n",
    "constraints = np.zeros((num_constraints, num_dimensions + 1))\n",
    "\n",
    "# Nhập giá trị của các ràng buộc\n",
    "constraints[0, :] = [1, 2, 3]\n",
    "constraints[1, :] = [4, 5, 6]\n",
    "constraints[2, :] = [7, 8, 9]\n",
    "\n",
    "print(\"Mảng ràng buộc: \")\n",
    "print(constraints)\n"
   ]
  },
  {
   "cell_type": "code",
   "execution_count": 54,
   "id": "42c07047",
   "metadata": {},
   "outputs": [
    {
     "name": "stdout",
     "output_type": "stream",
     "text": [
      "Nhập số lượng ràng buộc: 3\n",
      "Nhập số chiều của mảng: 2\n",
      "Nhập ràng buộc thứ 1: -1 2 3\n",
      "Nhập ràng buộc thứ 2: 1 4 -1\n",
      "Nhập ràng buộc thứ 3: 1 3 5\n",
      "Mảng bất đẳng thức: \n",
      "[[ 1.  2.  3.]\n",
      " [ 1.  4. -1.]\n",
      " [ 1.  3.  5.]]\n"
     ]
    }
   ],
   "source": [
    "import numpy as np\n",
    "\n",
    "# Nhập số lượng ràng buộc và số chiều của mảng\n",
    "num_constraints = int(input(\"Nhập số lượng ràng buộc: \"))\n",
    "num_dimensions = int(input(\"Nhập số chiều của mảng: \"))\n",
    "\n",
    "# Khởi tạo mảng numpy với kích thước tương ứng\n",
    "constraints = np.zeros((num_constraints, num_dimensions + 1))\n",
    "\n",
    "# Nhập thông tin về dấu bất đẳng thức và các hệ số tương ứng\n",
    "for i in range(num_constraints):\n",
    "    constraint_input = input(f\"Nhập ràng buộc thứ {i+1}: \")\n",
    "    constraint_parts = constraint_input.split()\n",
    "    sign = constraint_parts[0]\n",
    "    coefficients = [float(x) for x in constraint_parts[1:]]\n",
    "    constraint_row = [0] * (num_dimensions + 1)\n",
    "    constraint_row[0] = -1 if sign == \"<=\" else 1  # ép kiểu dấu bất đẳng thức\n",
    "    constraint_row[1:] = coefficients\n",
    "    constraints[i, :] = constraint_row\n",
    "\n",
    "print(\"Mảng bất đẳng thức: \")\n",
    "print(constraints)\n"
   ]
  },
  {
   "cell_type": "code",
   "execution_count": null,
   "id": "b9d066a6",
   "metadata": {},
   "outputs": [],
   "source": []
  },
  {
   "cell_type": "code",
   "execution_count": null,
   "id": "98d3b8d1",
   "metadata": {},
   "outputs": [],
   "source": []
  },
  {
   "cell_type": "code",
   "execution_count": null,
   "id": "c9252cd0",
   "metadata": {},
   "outputs": [],
   "source": []
  }
 ],
 "metadata": {
  "kernelspec": {
   "display_name": "Python 3 (ipykernel)",
   "language": "python",
   "name": "python3"
  },
  "language_info": {
   "codemirror_mode": {
    "name": "ipython",
    "version": 3
   },
   "file_extension": ".py",
   "mimetype": "text/x-python",
   "name": "python",
   "nbconvert_exporter": "python",
   "pygments_lexer": "ipython3",
   "version": "3.9.7"
  }
 },
 "nbformat": 4,
 "nbformat_minor": 5
}
