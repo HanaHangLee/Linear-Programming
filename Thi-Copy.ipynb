{
 "cells": [
  {
   "cell_type": "markdown",
   "id": "f8cd73bf",
   "metadata": {},
   "source": [
    "### Phương pháp Đơn hình Dantzig (Trường hợp bi > 0)"
   ]
  },
  {
   "cell_type": "code",
   "execution_count": 11,
   "id": "eacf326b",
   "metadata": {},
   "outputs": [],
   "source": [
    "import numpy as np\n",
    "from sympy import*\n",
    "import math"
   ]
  },
  {
   "cell_type": "code",
   "execution_count": 12,
   "id": "050091f3",
   "metadata": {},
   "outputs": [
    {
     "ename": "ModuleNotFoundError",
     "evalue": "No module named 'simplex.solver'",
     "output_type": "error",
     "traceback": [
      "\u001b[1;31m---------------------------------------------------------------------------\u001b[0m",
      "\u001b[1;31mModuleNotFoundError\u001b[0m                       Traceback (most recent call last)",
      "\u001b[1;32m~\\AppData\\Local\\Temp/ipykernel_17452/2677995693.py\u001b[0m in \u001b[0;36m<module>\u001b[1;34m\u001b[0m\n\u001b[1;32m----> 1\u001b[1;33m \u001b[1;32mfrom\u001b[0m \u001b[0msimplex\u001b[0m\u001b[1;33m.\u001b[0m\u001b[0msolver\u001b[0m \u001b[1;32mimport\u001b[0m \u001b[0mSimplexSolver\u001b[0m\u001b[1;33m\u001b[0m\u001b[1;33m\u001b[0m\u001b[0m\n\u001b[0m",
      "\u001b[1;31mModuleNotFoundError\u001b[0m: No module named 'simplex.solver'"
     ]
    }
   ],
   "source": [
    "from simplex.solver import SimplexSolver"
   ]
  },
  {
   "cell_type": "code",
   "execution_count": 4,
   "id": "c5bf4eeb",
   "metadata": {},
   "outputs": [
    {
     "data": {
      "text/plain": [
       "array([[1, 2, 3],\n",
       "       [4, 5, 6],\n",
       "       [7, 8, 9]])"
      ]
     },
     "execution_count": 4,
     "metadata": {},
     "output_type": "execute_result"
    }
   ],
   "source": [
    "obj_func = [2, 3, 0, 0, 0]\n",
    "coeffs = [\n",
    "[1, -2, 1, 0, 0],\n",
    "[2, 1, 0, 1, 0],\n",
    "[0, 1, 0, 0, 1]]\n",
    "constraints = [4, 18, 10]\n",
    "\n",
    "solver = SimplexSolver(obj_func, coeffs, constraints)\n",
    "sol = solver.solve()\n",
    "print(sol)"
   ]
  },
  {
   "cell_type": "code",
   "execution_count": 7,
   "id": "f2d3ad88",
   "metadata": {},
   "outputs": [
    {
     "data": {
      "text/plain": [
       "7"
      ]
     },
     "execution_count": 7,
     "metadata": {},
     "output_type": "execute_result"
    }
   ],
   "source": [
    "B[-1][0]"
   ]
  },
  {
   "cell_type": "code",
   "execution_count": null,
   "id": "231c0fea",
   "metadata": {},
   "outputs": [],
   "source": [
    "# A: ma tran chua he so cua cac rang buoc va ham muc tieu( he so cua ham muc tieu o dong cuoi cua A)\n",
    "def Dantzig(A):\n",
    "    # Tim bien vao tren ham muc tieu\n",
    "    max_value = A[-1][0]/abs(A[])\n",
    "    for i in range(A.shape[1]):\n",
    "        if A[-1][i] < 0:\n",
    "            \n",
    "        "
   ]
  }
 ],
 "metadata": {
  "kernelspec": {
   "display_name": "Python 3 (ipykernel)",
   "language": "python",
   "name": "python3"
  },
  "language_info": {
   "codemirror_mode": {
    "name": "ipython",
    "version": 3
   },
   "file_extension": ".py",
   "mimetype": "text/x-python",
   "name": "python",
   "nbconvert_exporter": "python",
   "pygments_lexer": "ipython3",
   "version": "3.9.7"
  }
 },
 "nbformat": 4,
 "nbformat_minor": 5
}
