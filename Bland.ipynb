{
 "cells": [
  {
   "cell_type": "code",
   "execution_count": 2,
   "id": "27783fb6",
   "metadata": {},
   "outputs": [],
   "source": [
    "import numpy as np\n"
   ]
  },
  {
   "cell_type": "code",
   "execution_count": 5,
   "id": "23b9eec1",
   "metadata": {},
   "outputs": [],
   "source": [
    "def leaving_index(c):\n",
    "    for i, c_i in enumerate(c):\n",
    "        if c_i < 0:\n",
    "            return i\n",
    "    return None"
   ]
  },
  {
   "cell_type": "code",
   "execution_count": 63,
   "id": "5fc790a9",
   "metadata": {},
   "outputs": [],
   "source": [
    "import numpy as np\n",
    "\n",
    "# A: ma trận chưa hệ của của các biến trong các ràng buộc\n",
    "# b: mảng chứa các giá trị bi\n",
    "# c: mảng chứa hệ số các biến trong hàm mục tiêu\n",
    "\n",
    "def bland_method(A, b, c):\n",
    "    m, n = A.shape\n",
    "\n",
    "    # Khởi tạo biến giá trị tối ưu\n",
    "    z = 0 \n",
    "    \n",
    "    # Tính ma trận bổ sung\n",
    "    T = np.hstack((A, np.eye(m)))\n",
    "    c_n = np.concatenate((c, np.zeros(m)))\n",
    "    b_n = b.copy()\n",
    "    \n",
    "    # Copy biến ban đầu để so sánh\n",
    "    A_cop = T.copy()\n",
    "    c_cop = c_n.copy()\n",
    "    b_cop = b.copy()\n",
    "    \n",
    "    # Tính biến cơ sở ban đầu\n",
    "    basis = list(range(n, n + m))\n",
    "    # Chuyển về dạng chuẩn tắc\n",
    "    while True:\n",
    "        \n",
    "        # Tìm biến vào\n",
    "        j = leaving_index(c_n)\n",
    "        if j == None:\n",
    "            break\n",
    "            \n",
    "        # Tìm biến ra\n",
    "        ratios = [float('inf')] * m\n",
    "        for i in range(m):\n",
    "            if T[i, j] > 0:\n",
    "                ratios[i] = b_n[i] / T[i, j]\n",
    "        \n",
    "        i = np.argmin(ratios)\n",
    "\n",
    "        # Kiểm tra bài toán không giới nội\n",
    "        if ratios[i] == float('inf'):\n",
    "            print(\"Bài toán không giới nội.\")\n",
    "            return -np.inf, None\n",
    "        \n",
    "        # Tính giá trị tối ưu\n",
    "        z += c_n[j] / T[i, j] * b_n[i]\n",
    "    \n",
    "        # Cập nhật ma trận\n",
    "        basis[i] = j\n",
    "        \n",
    "        for k in range(m):\n",
    "            if k != i:\n",
    "                b_n[k] -= T[k, j]/T[i,j] * b_n[i]\n",
    "                T[k, :] -=  T[k, j] / T[i,j] * T[i, :]\n",
    "        \n",
    "        b_n[i] /= T[i, j]\n",
    "        T[i, :] /= T[i, j]       \n",
    "        c_n -= c_n[j] * T[i, :]\n",
    "        \n",
    "        # Kiểm tra thuật toán có hoàn thành hay không \n",
    "        # Nếu Từ vựng mới trùng với từ vựng ban đầu thì dừng thuật toán\n",
    "        if (c_n == c_cop).all() and (T == A_cop).all() and (b_n == b_cop).all():\n",
    "            print(\"Thuật toán lặp vô hạn.\")\n",
    "            return None, None\n",
    "       \n",
    "    # Tìm nghiệm tối ưu\n",
    "    x = np.zeros(n)\n",
    "    for i in range(m):\n",
    "        if basis[i] < n:\n",
    "            x[basis[i]] = b_n[i]\n",
    "                           \n",
    "    return z, x "
   ]
  },
  {
   "cell_type": "code",
   "execution_count": 64,
   "id": "2ccd7909",
   "metadata": {},
   "outputs": [
    {
     "name": "stdout",
     "output_type": "stream",
     "text": [
      "z =  -14.0\n",
      "x =  [3. 1.]\n"
     ]
    }
   ],
   "source": [
    "c = np.array([-3, -5])\n",
    "A = np.array([[1,2], [1,0], [0,1]])\n",
    "b = np.array([5., 3., 2.])\n",
    "z, x = bland_method(A, b, c)\n",
    "print(\"z = \", z)\n",
    "print(\"x = \", x)"
   ]
  },
  {
   "cell_type": "code",
   "execution_count": 65,
   "id": "e3996f96",
   "metadata": {},
   "outputs": [
    {
     "name": "stdout",
     "output_type": "stream",
     "text": [
      "z =  -1.0\n",
      "x =  [1. 0. 1. 0.]\n"
     ]
    }
   ],
   "source": [
    "c = np.array([-10, 57, 9, 24])\n",
    "A = np.array([[0.5, -5.5, -2.5, 9], [0.5, -1.5, -0.5, 1], [1, 0,0,0]])\n",
    "b = np.array([0., 0., 1.])\n",
    "z, x = bland_method(A, b, c)\n",
    "print(\"z = \", z)\n",
    "print(\"x = \", x)"
   ]
  },
  {
   "cell_type": "code",
   "execution_count": 66,
   "id": "3feab518",
   "metadata": {},
   "outputs": [
    {
     "name": "stdout",
     "output_type": "stream",
     "text": [
      "z =  -4.0\n",
      "x =  [3. 0. 2. 0.]\n"
     ]
    }
   ],
   "source": [
    "c = np.array([2, -2, -5,5])\n",
    "A = np.array([[1,-1,3,-3], [2,-2, -3,3], [-1, 1, 1,-1], [-1, 1, 2, -2]])\n",
    "b = np.array([10., 0, 3., 1.])\n",
    "z, x = bland_method(A, b, c)\n",
    "print(\"z = \", z)\n",
    "print(\"x = \", x)"
   ]
  },
  {
   "cell_type": "code",
   "execution_count": null,
   "id": "a06802eb",
   "metadata": {},
   "outputs": [],
   "source": []
  }
 ],
 "metadata": {
  "kernelspec": {
   "display_name": "Python 3 (ipykernel)",
   "language": "python",
   "name": "python3"
  },
  "language_info": {
   "codemirror_mode": {
    "name": "ipython",
    "version": 3
   },
   "file_extension": ".py",
   "mimetype": "text/x-python",
   "name": "python",
   "nbconvert_exporter": "python",
   "pygments_lexer": "ipython3",
   "version": "3.9.7"
  }
 },
 "nbformat": 4,
 "nbformat_minor": 5
}
