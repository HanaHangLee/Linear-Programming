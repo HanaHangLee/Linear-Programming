{
 "cells": [
  {
   "cell_type": "markdown",
   "id": "4bdf65e6",
   "metadata": {},
   "source": [
    "Nhập hàm mục tiêu"
   ]
  },
  {
   "cell_type": "code",
   "execution_count": 47,
   "id": "88ec1972",
   "metadata": {},
   "outputs": [
    {
     "name": "stdout",
     "output_type": "stream",
     "text": [
      "Nhập biểu thức: 3*x1-8*x2+11\n",
      "Các đơn thức trong biểu thức là:\n",
      "((1, 0), 3)\n",
      "((0, 1), -8)\n",
      "((0, 0), 11)\n",
      "[[3 -8 11]]\n"
     ]
    }
   ],
   "source": [
    "from sympy import *\n",
    "\n",
    "# Nhập biểu thức\n",
    "expr = input(\"Nhập biểu thức: \")\n",
    "\n",
    "# Chuyển đổi biểu thức thành dạng đơn thức\n",
    "poly = Poly(expr)\n",
    "\n",
    "# In ra từng đơn thức\n",
    "print(\"Các đơn thức trong biểu thức là:\")\n",
    "results = []\n",
    "for term in poly.terms():\n",
    "    a = term\n",
    "    results.append(a)\n",
    "    print(term)\n",
    "#     print(i)\n",
    "#     i+=1\n",
    "\n",
    "# Tạo một list chứa các giá trị\n",
    "data = [t[1] for t in results]\n",
    "\n",
    "# Chuyển kết quả thành numpy array\n",
    "array_object = np.array([data])\n",
    "\n",
    "# In numpy array\n",
    "print(array)"
   ]
  },
  {
   "cell_type": "code",
   "execution_count": 41,
   "id": "5c5e8371",
   "metadata": {},
   "outputs": [
    {
     "data": {
      "text/plain": [
       "[((1, 0), 3), ((0, 1), -8), ((0, 0), -10)]"
      ]
     },
     "execution_count": 41,
     "metadata": {},
     "output_type": "execute_result"
    }
   ],
   "source": [
    "list"
   ]
  },
  {
   "cell_type": "code",
   "execution_count": 44,
   "id": "67aa7338",
   "metadata": {},
   "outputs": [
    {
     "ename": "TypeError",
     "evalue": "'list' object is not callable",
     "output_type": "error",
     "traceback": [
      "\u001b[1;31m---------------------------------------------------------------------------\u001b[0m",
      "\u001b[1;31mTypeError\u001b[0m                                 Traceback (most recent call last)",
      "\u001b[1;32m~\\AppData\\Local\\Temp/ipykernel_20332/639657084.py\u001b[0m in \u001b[0;36m<module>\u001b[1;34m\u001b[0m\n\u001b[0;32m      5\u001b[0m \u001b[1;33m\u001b[0m\u001b[0m\n\u001b[0;32m      6\u001b[0m \u001b[1;31m# Chuyển kết quả thành numpy array\u001b[0m\u001b[1;33m\u001b[0m\u001b[1;33m\u001b[0m\u001b[0m\n\u001b[1;32m----> 7\u001b[1;33m \u001b[0marray\u001b[0m \u001b[1;33m=\u001b[0m \u001b[0mnp\u001b[0m\u001b[1;33m.\u001b[0m\u001b[0marray\u001b[0m\u001b[1;33m(\u001b[0m\u001b[1;33m[\u001b[0m\u001b[0mlist\u001b[0m\u001b[1;33m(\u001b[0m\u001b[0mt\u001b[0m\u001b[1;33m[\u001b[0m\u001b[1;36m0\u001b[0m\u001b[1;33m]\u001b[0m\u001b[1;33m)\u001b[0m \u001b[1;33m+\u001b[0m \u001b[1;33m[\u001b[0m\u001b[0mt\u001b[0m\u001b[1;33m[\u001b[0m\u001b[1;36m1\u001b[0m\u001b[1;33m]\u001b[0m\u001b[1;33m]\u001b[0m \u001b[1;32mfor\u001b[0m \u001b[0mt\u001b[0m \u001b[1;32min\u001b[0m \u001b[0mresult\u001b[0m\u001b[1;33m]\u001b[0m\u001b[1;33m)\u001b[0m\u001b[1;33m\u001b[0m\u001b[1;33m\u001b[0m\u001b[0m\n\u001b[0m\u001b[0;32m      8\u001b[0m \u001b[1;33m\u001b[0m\u001b[0m\n\u001b[0;32m      9\u001b[0m \u001b[1;31m# In numpy array\u001b[0m\u001b[1;33m\u001b[0m\u001b[1;33m\u001b[0m\u001b[0m\n",
      "\u001b[1;32m~\\AppData\\Local\\Temp/ipykernel_20332/639657084.py\u001b[0m in \u001b[0;36m<listcomp>\u001b[1;34m(.0)\u001b[0m\n\u001b[0;32m      5\u001b[0m \u001b[1;33m\u001b[0m\u001b[0m\n\u001b[0;32m      6\u001b[0m \u001b[1;31m# Chuyển kết quả thành numpy array\u001b[0m\u001b[1;33m\u001b[0m\u001b[1;33m\u001b[0m\u001b[0m\n\u001b[1;32m----> 7\u001b[1;33m \u001b[0marray\u001b[0m \u001b[1;33m=\u001b[0m \u001b[0mnp\u001b[0m\u001b[1;33m.\u001b[0m\u001b[0marray\u001b[0m\u001b[1;33m(\u001b[0m\u001b[1;33m[\u001b[0m\u001b[0mlist\u001b[0m\u001b[1;33m(\u001b[0m\u001b[0mt\u001b[0m\u001b[1;33m[\u001b[0m\u001b[1;36m0\u001b[0m\u001b[1;33m]\u001b[0m\u001b[1;33m)\u001b[0m \u001b[1;33m+\u001b[0m \u001b[1;33m[\u001b[0m\u001b[0mt\u001b[0m\u001b[1;33m[\u001b[0m\u001b[1;36m1\u001b[0m\u001b[1;33m]\u001b[0m\u001b[1;33m]\u001b[0m \u001b[1;32mfor\u001b[0m \u001b[0mt\u001b[0m \u001b[1;32min\u001b[0m \u001b[0mresult\u001b[0m\u001b[1;33m]\u001b[0m\u001b[1;33m)\u001b[0m\u001b[1;33m\u001b[0m\u001b[1;33m\u001b[0m\u001b[0m\n\u001b[0m\u001b[0;32m      8\u001b[0m \u001b[1;33m\u001b[0m\u001b[0m\n\u001b[0;32m      9\u001b[0m \u001b[1;31m# In numpy array\u001b[0m\u001b[1;33m\u001b[0m\u001b[1;33m\u001b[0m\u001b[0m\n",
      "\u001b[1;31mTypeError\u001b[0m: 'list' object is not callable"
     ]
    }
   ],
   "source": [
    "import numpy as np\n",
    "\n",
    "# Kết quả cho trước\n",
    "result = [((1, 0, 0), 3), ((0, 1, 0), -4), ((0, 0, 1), -8), ((0, 0, 0), 5)]\n",
    "\n",
    "# Chuyển kết quả thành numpy array\n",
    "array = np.array([list(t[0]) + [t[1]] for t in result])\n",
    "\n",
    "# In numpy array\n",
    "print(array)\n"
   ]
  },
  {
   "cell_type": "code",
   "execution_count": 45,
   "id": "54e5ba46",
   "metadata": {},
   "outputs": [
    {
     "name": "stdout",
     "output_type": "stream",
     "text": [
      "[[ 3 -4 -8  5]]\n"
     ]
    }
   ],
   "source": [
    "import numpy as np\n",
    "\n",
    "# Kết quả cho trước\n",
    "result = [((1, 0, 0), 3), ((0, 1, 0), -4), ((0, 0, 1), -8), ((0, 0, 0), 5)]\n",
    "\n",
    "# Tạo một list chứa các giá trị\n",
    "data = [t[1] for t in result]\n",
    "\n",
    "# Chuyển kết quả thành numpy array\n",
    "array = np.array([data])\n",
    "\n",
    "# In numpy array\n",
    "print(array)\n"
   ]
  },
  {
   "cell_type": "code",
   "execution_count": null,
   "id": "92d61d8f",
   "metadata": {},
   "outputs": [],
   "source": []
  },
  {
   "cell_type": "code",
   "execution_count": null,
   "id": "e2f2e6dd",
   "metadata": {},
   "outputs": [],
   "source": []
  },
  {
   "cell_type": "markdown",
   "id": "208a7f6e",
   "metadata": {},
   "source": [
    "Nhập các ràng buộc chứa các phép so sánh"
   ]
  },
  {
   "cell_type": "code",
   "execution_count": null,
   "id": "fbcd9429",
   "metadata": {},
   "outputs": [],
   "source": []
  },
  {
   "cell_type": "code",
   "execution_count": null,
   "id": "e18e161f",
   "metadata": {},
   "outputs": [],
   "source": []
  },
  {
   "cell_type": "code",
   "execution_count": null,
   "id": "c7d94224",
   "metadata": {},
   "outputs": [],
   "source": []
  },
  {
   "cell_type": "code",
   "execution_count": null,
   "id": "6bca7982",
   "metadata": {},
   "outputs": [],
   "source": []
  },
  {
   "cell_type": "code",
   "execution_count": null,
   "id": "98bfd0b1",
   "metadata": {},
   "outputs": [],
   "source": []
  },
  {
   "cell_type": "code",
   "execution_count": null,
   "id": "6c9a13e0",
   "metadata": {},
   "outputs": [],
   "source": []
  },
  {
   "cell_type": "code",
   "execution_count": null,
   "id": "a5e6bd45",
   "metadata": {},
   "outputs": [],
   "source": []
  }
 ],
 "metadata": {
  "kernelspec": {
   "display_name": "Python 3 (ipykernel)",
   "language": "python",
   "name": "python3"
  },
  "language_info": {
   "codemirror_mode": {
    "name": "ipython",
    "version": 3
   },
   "file_extension": ".py",
   "mimetype": "text/x-python",
   "name": "python",
   "nbconvert_exporter": "python",
   "pygments_lexer": "ipython3",
   "version": "3.9.7"
  }
 },
 "nbformat": 4,
 "nbformat_minor": 5
}
