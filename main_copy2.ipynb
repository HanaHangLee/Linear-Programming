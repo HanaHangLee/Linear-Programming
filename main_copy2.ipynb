{
 "cells": [
  {
   "cell_type": "code",
   "execution_count": 1,
   "id": "02ba1415-55c7-4499-a061-7a854409253b",
   "metadata": {},
   "outputs": [],
   "source": [
    "import numpy as np\n",
    "import pandas as pd"
   ]
  },
  {
   "cell_type": "code",
   "execution_count": 2,
   "id": "1df6673c-c387-45ec-b4f2-63c2987ba8bd",
   "metadata": {},
   "outputs": [
    {
     "name": "stderr",
     "output_type": "stream",
     "text": [
      "C:\\Users\\maith\\AppData\\Local\\Temp\\ipykernel_27864\\3101870600.py:1: DeprecationWarning: `np.object` is a deprecated alias for the builtin `object`. To silence this warning, use `object` by itself. Doing this will not modify any behavior and is safe. \n",
      "Deprecated in NumPy 1.20; for more details and guidance: https://numpy.org/devdocs/release/1.20.0-notes.html#deprecations\n",
      "  objective=np.array([['max',5,-10]], dtype=np.object)\n"
     ]
    },
    {
     "data": {
      "text/plain": [
       "array([['max', 5, -10]], dtype=object)"
      ]
     },
     "execution_count": 2,
     "metadata": {},
     "output_type": "execute_result"
    }
   ],
   "source": [
    "objective=np.array([['max',5,-10]], dtype=np.object)\n",
    "objective_origin=objective\n",
    "objective_origin"
   ]
  },
  {
   "cell_type": "code",
   "execution_count": 3,
   "id": "5f992b52-55c0-4c6c-b653-22fc5f8e336f",
   "metadata": {},
   "outputs": [
    {
     "name": "stderr",
     "output_type": "stream",
     "text": [
      "C:\\Users\\maith\\AppData\\Local\\Temp\\ipykernel_27864\\1191267947.py:1: DeprecationWarning: `np.object` is a deprecated alias for the builtin `object`. To silence this warning, use `object` by itself. Doing this will not modify any behavior and is safe. \n",
      "Deprecated in NumPy 1.20; for more details and guidance: https://numpy.org/devdocs/release/1.20.0-notes.html#deprecations\n",
      "  constraint=np.array([[-2,1,'<=',1],[1,-1,'>=',-2],[3,1,'<=',8],[-2,1,'<=',-9],[4,3,'>=',0]], dtype=np.object)\n"
     ]
    },
    {
     "data": {
      "text/plain": [
       "array([[-2, 1, '<=', 1],\n",
       "       [1, -1, '>=', -2],\n",
       "       [3, 1, '<=', 8],\n",
       "       [-2, 1, '<=', -9],\n",
       "       [4, 3, '>=', 0]], dtype=object)"
      ]
     },
     "execution_count": 3,
     "metadata": {},
     "output_type": "execute_result"
    }
   ],
   "source": [
    "constraint=np.array([[-2,1,'<=',1],[1,-1,'>=',-2],[3,1,'<=',8],[-2,1,'<=',-9],[4,3,'>=',0]], dtype=np.object)\n",
    "constraint_origin=constraint\n",
    "constraint_origin"
   ]
  },
  {
   "cell_type": "code",
   "execution_count": 4,
   "id": "ea3e8dbd-5180-42ad-91fc-634cf3aec997",
   "metadata": {},
   "outputs": [
    {
     "name": "stderr",
     "output_type": "stream",
     "text": [
      "C:\\Users\\maith\\AppData\\Local\\Temp\\ipykernel_27864\\2240793066.py:2: DeprecationWarning: `np.object` is a deprecated alias for the builtin `object`. To silence this warning, use `object` by itself. Doing this will not modify any behavior and is safe. \n",
      "Deprecated in NumPy 1.20; for more details and guidance: https://numpy.org/devdocs/release/1.20.0-notes.html#deprecations\n",
      "  condition=np.array([[1,0,'>=',0],[0,1,'?',0]], dtype=np.object)\n"
     ]
    },
    {
     "data": {
      "text/plain": [
       "array([[1, 0, '>=', 0],\n",
       "       [0, 1, '?', 0]], dtype=object)"
      ]
     },
     "execution_count": 4,
     "metadata": {},
     "output_type": "execute_result"
    }
   ],
   "source": [
    "# Nếu là biến tự do thì ta dùng \"?\"\n",
    "condition=np.array([[1,0,'>=',0],[0,1,'?',0]], dtype=np.object)\n",
    "condition_origin=condition\n",
    "condition_origin"
   ]
  },
  {
   "cell_type": "code",
   "execution_count": 5,
   "id": "d90f86a1-11a1-41e0-9bba-0d00533accf9",
   "metadata": {},
   "outputs": [
    {
     "name": "stdout",
     "output_type": "stream",
     "text": [
      "objective:\n",
      " [['max' 5 -10 10]]\n",
      "constraint:\n",
      " [[-2 1 -1 '<=' 1]\n",
      " [1 -1 1 '>=' -2]\n",
      " [3 1 -1 '<=' 8]\n",
      " [-2 1 -1 '<=' -9]\n",
      " [4 3 -3 '>=' 0]]\n",
      "condition:\n",
      " [[1 0 0 '>=' 0]\n",
      " [0 1 0 '>=' 0]\n",
      " [0 0 1 '>=' 0]]\n"
     ]
    },
    {
     "name": "stderr",
     "output_type": "stream",
     "text": [
      "C:\\Users\\maith\\AppData\\Local\\Temp\\ipykernel_27864\\346678788.py:69: DeprecationWarning: `np.object` is a deprecated alias for the builtin `object`. To silence this warning, use `object` by itself. Doing this will not modify any behavior and is safe. \n",
      "Deprecated in NumPy 1.20; for more details and guidance: https://numpy.org/devdocs/release/1.20.0-notes.html#deprecations\n",
      "  newcol=np.zeros(condition.shape[0],dtype=np.object)\n",
      "C:\\Users\\maith\\AppData\\Local\\Temp\\ipykernel_27864\\346678788.py:70: DeprecationWarning: `np.object` is a deprecated alias for the builtin `object`. To silence this warning, use `object` by itself. Doing this will not modify any behavior and is safe. \n",
      "Deprecated in NumPy 1.20; for more details and guidance: https://numpy.org/devdocs/release/1.20.0-notes.html#deprecations\n",
      "  newrow=np.zeros(condition.shape[1]+1,dtype=np.object)\n"
     ]
    }
   ],
   "source": [
    "def check_condition(objective, constraint, condition):\n",
    "    \n",
    "    condition2=condition\n",
    "    flag1=0\n",
    "    flag2=0\n",
    "    flag3=0\n",
    "    for i in range(condition2.shape[0]):\n",
    "        for j in range(condition2.shape[1]):\n",
    "            if np.diag(condition2)[i] == 1:\n",
    "                if condition2[i][j] == '<='and condition2[:,-1][i] == 0  :\n",
    "                    objective[:,i+1+flag2] = objective[:,i+1+flag2]*-1\n",
    "                    constraint[:,i+flag2]=constraint[:,i+flag2]*-1\n",
    "                    condition[i][j] = '>='\n",
    "                    flag1=flag1+1\n",
    "                elif condition2[i][j] == '>='and condition2[:,-1][i] == 0  :\n",
    "                    flag3=flag3+1\n",
    "                elif condition[:,-1][i] != 0 :\n",
    "                    temp_objective=pd.DataFrame(objective)\n",
    "                    newcol=np.vstack([temp_objective.iloc[:,2*i+1-flag1-flag3],temp_objective.iloc[:,2*i+1-flag1-flag3]*-1])\n",
    "                    temp_objective.insert(2*i+1-flag1-flag3,None,newcol[0].T)\n",
    "                    temp_objective.insert(2*i+2-flag1-flag3,None,newcol[1].T)\n",
    "                    temp_objective.drop(labels=2*i+1-flag1-flag3,axis=1,inplace=True)\n",
    "                    objective=temp_objective\n",
    "                    objective=temp_objective.values\n",
    "                    \n",
    "                    temp_constraint=pd.DataFrame(constraint)\n",
    "                    newrow=np.zeros(temp_constraint.shape[1],dtype=np.object)\n",
    "                    newrow[i-flag1-flag3:]=condition2[i,:]                    \n",
    "                    temp_constraint.loc[temp_constraint.shape[0]+1]=newrow\n",
    "                    #constraint= np.vstack([constraint, newrow])\n",
    "                    newcol=np.vstack([temp_constraint.iloc[:,2*i-flag1-flag3],temp_constraint.iloc[:,2*i-flag1-flag3]*-1])\n",
    "                    temp_constraint.insert(2*i-flag1-flag3,None,newcol[0].T)\n",
    "                    temp_constraint.insert(2*i+1-flag1-flag3,None,newcol[1].T)\n",
    "                    temp_constraint.drop(labels=2*i-flag1-flag3,axis=1,inplace=True)\n",
    "                    constraint=temp_constraint.values\n",
    "                    \n",
    "                    \n",
    "                    newcol=np.zeros(condition.shape[0],dtype=np.object)\n",
    "                    newrow=np.zeros(condition.shape[1]+1,dtype=np.object)\n",
    "                    temp_condition=pd.DataFrame(condition)\n",
    "                    temp_condition.insert(condition.shape[1]-2,None,newcol.T)\n",
    "                    temp_condition.loc[condition.shape[0]]=newrow\n",
    "                    temp_condition.iloc[-1,condition.shape[1]-1]='>='\n",
    "                    temp_condition.iloc[-1,condition.shape[1]-2]=1\n",
    "                    temp_condition.iloc[i,condition.shape[1]]=0\n",
    "                    temp_condition.iloc[i,condition.shape[1]-1]='>='\n",
    "                    condition = np.array(temp_condition)\n",
    "                    \n",
    "                    flag2=flag2+1\n",
    "                elif condition2[i][j] == '?'and condition2[:,-1][i] == 0:\n",
    "                    temp_objective=pd.DataFrame(objective)\n",
    "                    newcol=np.vstack([temp_objective.iloc[:,2*i+1-flag1-flag3],temp_objective.iloc[:,2*i+1-flag1-flag3]*-1])\n",
    "                    temp_objective.insert(2*i+1-flag1-flag3,None,newcol[0].T)\n",
    "                    temp_objective.insert(2*i+2-flag1-flag3,None,newcol[1].T)\n",
    "                    temp_objective.drop(labels=2*i+1-flag1-flag3,axis=1,inplace=True)\n",
    "                    objective=temp_objective\n",
    "                    objective=temp_objective.values\n",
    "                    \n",
    "                    temp_constraint=pd.DataFrame(constraint)\n",
    "                    \n",
    "                    #constraint= np.vstack([constraint, newrow])\n",
    "                    newcol=np.vstack([temp_constraint.iloc[:,2*i-flag1-flag3],temp_constraint.iloc[:,2*i-flag1-flag3]*-1])\n",
    "                    temp_constraint.insert(2*i-flag1-flag3,None,newcol[0].T)\n",
    "                    temp_constraint.insert(2*i+1-flag1-flag3,None,newcol[1].T)\n",
    "                    temp_constraint.drop(labels=2*i-flag1-flag3,axis=1,inplace=True)\n",
    "                    constraint=temp_constraint.values\n",
    "                    \n",
    "                    \n",
    "                    newcol=np.zeros(condition.shape[0],dtype=np.object)\n",
    "                    newrow=np.zeros(condition.shape[1]+1,dtype=np.object)\n",
    "                    temp_condition=pd.DataFrame(condition)\n",
    "                    temp_condition.insert(condition.shape[1]-2,None,newcol.T)\n",
    "                    temp_condition.loc[condition.shape[0]]=newrow\n",
    "                    temp_condition.iloc[-1,condition.shape[1]-1]='>='\n",
    "                    temp_condition.iloc[-1,condition.shape[1]-2]=1\n",
    "                    temp_condition.iloc[i,condition.shape[1]]=0\n",
    "                    temp_condition.iloc[i,condition.shape[1]-1]='>='\n",
    "                    condition = np.array(temp_condition)\n",
    "                    \n",
    "                    flag2=flag2+1\n",
    "                \n",
    "    return objective,constraint,condition\n",
    "\n",
    "objective, constraint, condition = check_condition(objective, constraint, condition)\n",
    "print('objective:\\n',objective)\n",
    "print('constraint:\\n',constraint)\n",
    "print('condition:\\n', condition)"
   ]
  },
  {
   "cell_type": "code",
   "execution_count": 6,
   "id": "939b0c1a-9ff9-473f-b7b5-94145b2452ce",
   "metadata": {},
   "outputs": [
    {
     "name": "stdout",
     "output_type": "stream",
     "text": [
      "objective:\n",
      " [['max' 5 -10 10]]\n",
      "constraint:\n",
      " [[-2 1 -1 '<=' 1]\n",
      " [-1 1 -1 '<=' 2]\n",
      " [3 1 -1 '<=' 8]\n",
      " [-2 1 -1 '<=' -9]\n",
      " [-4 -3 3 '<=' 0]]\n",
      "condition:\n",
      " [[1 0 0 '>=' 0]\n",
      " [0 1 0 '>=' 0]\n",
      " [0 0 1 '>=' 0]]\n"
     ]
    }
   ],
   "source": [
    "def check_constraint(objective, constraint, condition):\n",
    "    constraint2=constraint\n",
    "    k=constraint.shape[1]-2\n",
    "    flag=0\n",
    "    for i in range(constraint2.shape[0]):\n",
    "        if constraint[i-flag][k] == \">=\":\n",
    "            constraint[i-flag,:]=constraint[i-flag,:]*-1\n",
    "            constraint[i-flag][k] = \"<=\"\n",
    "            \n",
    "        if constraint2[:,k][i] == \"=\":\n",
    "            newrow=np.vstack([constraint[i-flag],constraint[i-flag]*-1])\n",
    "            newrow[0][k]='<='\n",
    "            newrow[1][k]='<='\n",
    "            temp_constraint=pd.DataFrame(constraint)\n",
    "            #temp_constraint = temp_constraint.drop(labels=i, axis=0)\n",
    "            temp_constraint.loc[temp_constraint.shape[0]+1]=newrow[0]\n",
    "            temp_constraint.loc[temp_constraint.shape[0]+2]=newrow[1]\n",
    "            temp_constraint = temp_constraint.drop(labels=i-flag, axis=0)\n",
    "            flag=flag+1\n",
    "                    \n",
    "            constraint=temp_constraint.values\n",
    "    return objective,constraint,condition\n",
    "        \n",
    "objective, constraint, condition = check_constraint(objective, constraint, condition)\n",
    "print('objective:\\n',objective)\n",
    "print('constraint:\\n',constraint)\n",
    "print('condition:\\n', condition)"
   ]
  },
  {
   "cell_type": "code",
   "execution_count": 7,
   "id": "abe49355-dced-4a33-a015-42099af64764",
   "metadata": {},
   "outputs": [
    {
     "name": "stdout",
     "output_type": "stream",
     "text": [
      "objective:\n",
      " [['min' -5 10 -10]]\n",
      "constraint:\n",
      " [[-2 1 -1 '<=' 1]\n",
      " [-1 1 -1 '<=' 2]\n",
      " [3 1 -1 '<=' 8]\n",
      " [-2 1 -1 '<=' -9]\n",
      " [-4 -3 3 '<=' 0]]\n",
      "condition:\n",
      " [[1 0 0 '>=' 0]\n",
      " [0 1 0 '>=' 0]\n",
      " [0 0 1 '>=' 0]]\n"
     ]
    }
   ],
   "source": [
    "def check_objective(objective, constraint, condition):\n",
    "    if objective[0][0]=='max':\n",
    "        objective=objective*-1\n",
    "        objective[0][0]='min'\n",
    "    return objective, constraint, condition\n",
    "objective, constraint, condition = check_objective(objective, constraint, condition)\n",
    "print('objective:\\n',objective)\n",
    "print('constraint:\\n',constraint)\n",
    "print('condition:\\n', condition)"
   ]
  },
  {
   "cell_type": "code",
   "execution_count": 8,
   "id": "ccca9475",
   "metadata": {},
   "outputs": [],
   "source": [
    "def convert(objective, constraint, condition):\n",
    "    c = objective[:,1:]\n",
    "    c = c.flatten()\n",
    "    c = c.astype(np.float64)\n",
    "    \n",
    "    b = constraint[:, -1]\n",
    "    b = b.astype(np.float64)\n",
    "    \n",
    "    A = np.delete(constraint, [-1,-2], axis = 1)\n",
    "    A = A.astype(np.float64)\n",
    "    return A, b, c"
   ]
  },
  {
   "cell_type": "code",
   "execution_count": 9,
   "id": "288d0efc",
   "metadata": {},
   "outputs": [],
   "source": [
    "A, b, c = convert(objective, constraint, condition)"
   ]
  },
  {
   "cell_type": "code",
   "execution_count": 10,
   "id": "6b05997a",
   "metadata": {},
   "outputs": [
    {
     "data": {
      "text/plain": [
       "array([[-2.,  1., -1.],\n",
       "       [-1.,  1., -1.],\n",
       "       [ 3.,  1., -1.],\n",
       "       [-2.,  1., -1.],\n",
       "       [-4., -3.,  3.]])"
      ]
     },
     "execution_count": 10,
     "metadata": {},
     "output_type": "execute_result"
    }
   ],
   "source": [
    "A"
   ]
  },
  {
   "cell_type": "code",
   "execution_count": 11,
   "id": "a2ff3b83",
   "metadata": {},
   "outputs": [
    {
     "data": {
      "text/plain": [
       "array([ 1.,  2.,  8., -9.,  0.])"
      ]
     },
     "execution_count": 11,
     "metadata": {},
     "output_type": "execute_result"
    }
   ],
   "source": [
    "b"
   ]
  },
  {
   "cell_type": "code",
   "execution_count": 12,
   "id": "76f7eb28",
   "metadata": {},
   "outputs": [
    {
     "data": {
      "text/plain": [
       "array([ -5.,  10., -10.])"
      ]
     },
     "execution_count": 12,
     "metadata": {},
     "output_type": "execute_result"
    }
   ],
   "source": [
    "c"
   ]
  },
  {
   "cell_type": "code",
   "execution_count": 13,
   "id": "9c46c03d",
   "metadata": {},
   "outputs": [],
   "source": [
    "import numpy as np\n",
    "\n",
    "# A: ma trận chứa hệ của của các biến trong các ràng buộc\n",
    "# b: mảng chứa các giá trị bi\n",
    "# c: mảng chứa hệ số các biến trong hàm mục tiêu\n",
    "\n",
    "def dantzig_method(A, b, c):\n",
    "    m, n = A.shape\n",
    "\n",
    "    # Khởi tạo biến giá trị tối ưu\n",
    "    z = 0 \n",
    "    \n",
    "    # Tính ma trận bổ sung\n",
    "    T = np.hstack((A, np.eye(m)))\n",
    "    c_n = np.concatenate((c, np.zeros(m)))\n",
    "    b_n = b.copy()\n",
    "    \n",
    "    # Copy biến ban đầu để so sánh\n",
    "    A_cop = T.copy()\n",
    "    c_cop = c_n.copy()\n",
    "    b_cop = b.copy()\n",
    "    \n",
    "    # Tính biến cơ sở ban đầu\n",
    "    basis = list(range(n, n + m))\n",
    "    \n",
    "    while True:\n",
    "        # Tìm biến vào\n",
    "        #print(\"T: \", T)\n",
    "        \n",
    "        j = np.argmin(c_n)\n",
    "        \n",
    "        if c_n[j] >= 0:\n",
    "            break\n",
    "            \n",
    "        # Tìm biến ra\n",
    "        ratios = [float('inf')] * m\n",
    "        for i in range(m):\n",
    "            if T[i, j] > 0:\n",
    "                ratios[i] = b_n[i] / T[i, j]\n",
    "        \n",
    "        i = np.argmin(ratios)\n",
    "\n",
    "        # Kiểm tra bài toán không giới nội\n",
    "        if ratios[i] == float('inf'):\n",
    "            print(\"Bài toán không giới nội.\")\n",
    "            return -np.inf, None\n",
    "        \n",
    "        # Tính giá trị tối ưu\n",
    "        z += c_n[j] / T[i, j] * b_n[i]\n",
    "        # Cập nhật ma trận\n",
    "        basis[i] = j\n",
    "        \n",
    "        #print(\"T: \", T)\n",
    "        for k in range(m):\n",
    "            if k != i:\n",
    "                b_n[k] -= T[k, j]/T[i,j] * b_n[i]\n",
    "                T[k, :] -=  T[k, j] / T[i,j] * T[i, :]\n",
    "        \n",
    "        b_n[i] /= T[i, j]\n",
    "        T[i, :] /= T[i, j]       \n",
    "        c_n -= c_n[j] * T[i, :]\n",
    "        \n",
    "        #print(\"c: \", c_n)\n",
    "        # Kiểm tra thuật toán có hoàn thành hay không \n",
    "        # Nếu Từ vựng mới trùng với từ vựng ban đầu thì dừng thuật toán\n",
    "        if (c_n == c_cop).all() and (T == A_cop).all() and (b_n == b_cop).all():\n",
    "            print(\"Thuật toán lặp vô hạn.\")\n",
    "            return None, None\n",
    "        \n",
    "    # Tìm nghiệm tối ưu\n",
    "    x = np.zeros(n)\n",
    "    for i in range(m):\n",
    "        if basis[i] < n:\n",
    "            x[basis[i]] = b_n[i]\n",
    "    print(\"Bài toán có nghiệm duy nhất.\")                      \n",
    "    return z, x "
   ]
  },
  {
   "cell_type": "code",
   "execution_count": 14,
   "id": "e58538e6",
   "metadata": {},
   "outputs": [],
   "source": [
    "def leaving_index(c):\n",
    "    for i, c_i in enumerate(c):\n",
    "        if c_i < 0:\n",
    "            return i\n",
    "    return None"
   ]
  },
  {
   "cell_type": "code",
   "execution_count": 15,
   "id": "f3fbcb85",
   "metadata": {},
   "outputs": [],
   "source": [
    "def bland_method(A, b, c):\n",
    "    m, n = A.shape\n",
    "\n",
    "    # Khởi tạo biến giá trị tối ưu\n",
    "    z = 0 \n",
    "    \n",
    "    # Tính ma trận bổ sung\n",
    "    T = np.hstack((A, np.eye(m)))\n",
    "    c_n = np.concatenate((c, np.zeros(m)))\n",
    "    b_n = b.copy()\n",
    "    \n",
    "    # Copy biến ban đầu để so sánh\n",
    "    A_cop = T.copy()\n",
    "    c_cop = c_n.copy()\n",
    "    b_cop = b.copy()\n",
    "    \n",
    "    # Tính biến cơ sở ban đầu\n",
    "    basis = list(range(n, n + m))\n",
    "    # Chuyển về dạng chuẩn tắc\n",
    "    while True:\n",
    "        \n",
    "        # Tìm biến vào\n",
    "        j = leaving_index(c_n)\n",
    "        if j == None:\n",
    "            break\n",
    "            \n",
    "        # Tìm biến ra\n",
    "        ratios = [float('inf')] * m\n",
    "        for i in range(m):\n",
    "            if T[i, j] > 0:\n",
    "                ratios[i] = b_n[i] / T[i, j]\n",
    "        \n",
    "        i = np.argmin(ratios)\n",
    "\n",
    "        # Kiểm tra bài toán không giới nội\n",
    "        if ratios[i] == float('inf'):\n",
    "            print(\"Bài toán không giới nội.\")\n",
    "            return -np.inf, None\n",
    "        \n",
    "        # Tính giá trị tối ưu\n",
    "        z += c_n[j] / T[i, j] * b_n[i]\n",
    "    \n",
    "        # Cập nhật ma trận\n",
    "        basis[i] = j\n",
    "        \n",
    "        for k in range(m):\n",
    "            if k != i:\n",
    "                b_n[k] -= T[k, j]/T[i,j] * b_n[i]\n",
    "                T[k, :] -=  T[k, j] / T[i,j] * T[i, :]\n",
    "        \n",
    "        b_n[i] /= T[i, j]\n",
    "        T[i, :] /= T[i, j]       \n",
    "        c_n -= c_n[j] * T[i, :]\n",
    "        \n",
    "        # Kiểm tra thuật toán có hoàn thành hay không \n",
    "        # Nếu Từ vựng mới trùng với từ vựng ban đầu thì dừng thuật toán\n",
    "        if (c_n == c_cop).all() and (T == A_cop).all() and (b_n == b_cop).all():\n",
    "            print(\"Thuật toán lặp vô hạn.\")\n",
    "            return None, None\n",
    "       \n",
    "    # Tìm nghiệm tối ưu\n",
    "    x = np.zeros(n)\n",
    "    for i in range(m):\n",
    "        if basis[i] < n:\n",
    "            x[basis[i]] = b_n[i]\n",
    "                           \n",
    "    return z, x "
   ]
  },
  {
   "cell_type": "code",
   "execution_count": 16,
   "id": "c1c026f3",
   "metadata": {},
   "outputs": [],
   "source": [
    "def two_phases(A,b,c):\n",
    "\n",
    "    m, n = A.shape\n",
    "    # Khởi tạo biến giá trị tối ưu\n",
    "    z = 0\n",
    "    # Tính ma trận bổ sung có chứa x0\n",
    "    c1 = np.concatenate((np.ones(1), np.zeros(m+n)))\n",
    "    new_col = (-1*np.ones(m)).reshape(-1, 1)\n",
    "    T = np.hstack((new_col,np.hstack((A, np.eye(m)))))\n",
    "    b_n = b.copy()\n",
    "\n",
    "\n",
    "    # Copy biến ban đầu để so sánh\n",
    "    A_cop = T.copy()\n",
    "    c_cop = c1.copy()\n",
    "    b_cop = b.copy()\n",
    "\n",
    "    # Tính biến cơ sở ban đầu\n",
    "    basis = list(range(n+1, n + m+1))\n",
    "    # Chuyển về dạng chuẩn tắc\n",
    "\n",
    "    #Chọn biến vào\n",
    "    j = 0\n",
    "    #Tìm biến ra\n",
    "    i = np.argmin(b_n)\n",
    "\n",
    "    \n",
    "    # Tính giá trị tối ưu\n",
    "    z += c1[j] / T[i, j] * b_n[i]\n",
    "    # Cập nhật ma trận\n",
    "    basis[i] = j\n",
    "    \n",
    "    for k in range(m):\n",
    "        if k != i:\n",
    "            b_n[k] -= T[k, j]/T[i,j] * b_n[i]\n",
    "            T[k, :] -=  T[k, j] / T[i,j] * T[i, :]\n",
    "    \n",
    "    b_n[i] /= T[i, j]\n",
    "    T[i, :] /= T[i, j]       \n",
    "    c1 -= c1[j] * T[i, :]\n",
    "\n",
    "    #phase 1\n",
    "    while True:\n",
    "        # Tìm biến vào\n",
    "        j = np.argmin(c1)\n",
    "        \n",
    "        if c1[j] >= 0:\n",
    "            break\n",
    "            \n",
    "        # Tìm biến ra\n",
    "        ratios = [float('inf')] * m\n",
    "        for i in range(m):\n",
    "            if T[i, j] > 0:\n",
    "                ratios[i] = b_n[i] / T[i, j]\n",
    "        \n",
    "        i = np.argmin(ratios)\n",
    "\n",
    "        # Kiểm tra bài toán không giới nội hoặc từ vựng tối ưu\n",
    "        if ratios[i] == float('inf'):\n",
    "            return -np.inf, None\n",
    "        \n",
    "        # Tính giá trị tối ưu\n",
    "        z += c1[j] / T[i, j] * b_n[i]\n",
    "        # Cập nhật ma trận\n",
    "        basis[i] = j\n",
    "        \n",
    "        for k in range(m):\n",
    "            if k != i:\n",
    "                b_n[k] -= T[k, j]/T[i,j] * b_n[i]\n",
    "                T[k, :] -=  T[k, j] / T[i,j] * T[i, :]\n",
    "        \n",
    "        b_n[i] /= T[i, j]\n",
    "        T[i, :] /= T[i, j]       \n",
    "        c1 -= c1[j] * T[i, :]\n",
    "        # Kiểm tra thuật toán có hoàn thành hay không \n",
    "        # Nếu Từ vựng mới trùng với từ vựng ban đầu thì dừng thuật toán\n",
    "        if (c1 == c_cop).all() and (T == A_cop).all() and (b_n == b_cop).all():\n",
    "            print(\"Thuật toán lặp vô hạn.\")\n",
    "            return None, None\n",
    "        \n",
    "    #Kiểm tra bài toán có nghiệm khi hoàn thành phase 1\n",
    "    if np.array_equal(c1,c_cop) == False:\n",
    "        return None, None\n",
    "    #Thiết lập hàm mục tiêu cho phase 2\n",
    "    # c_n = np.concatenate((np.zeros(len(c)), np.zeros(m)))\n",
    "    c_n = np.zeros(m+n) # trường hợp các biến trên hàm mục tiêu không đủ\n",
    "\n",
    "    #loại bỏ x0\n",
    "    T = T[:, 1:]\n",
    "    T_z = T.copy()\n",
    "    for i in range(m):\n",
    "        if basis[i] <= n:\n",
    "            T_z[i,basis[i]-1] = 0 # làm mất biến thay vào khi thêm vào hàm mục tiêu\n",
    "            c_n += c[basis[i]-1] * T_z[i,:] #vì basis có tính 0\n",
    "            z += c[basis[i]-1] * b_n[i]\n",
    "    #Cập nhật giá trị z cho phase 2\n",
    "    c_n *= -1\n",
    "    #Cập nhật lại basis\n",
    "    basis -= np.ones(len(basis))\n",
    "    #phase 2\n",
    "\n",
    "    while True:\n",
    "        # Tìm biến vào\n",
    "        j = np.argmin(c_n)\n",
    "        \n",
    "        if c_n[j] >= 0:\n",
    "            break\n",
    "            \n",
    "        # Tìm biến ra\n",
    "        ratios = [float('inf')] * m\n",
    "        for i in range(m):\n",
    "            if T[i, j] > 0:\n",
    "                ratios[i] = b_n[i] / T[i, j]\n",
    "        \n",
    "        i = np.argmin(ratios)\n",
    "\n",
    "        # Kiểm tra bài toán không giới nội\n",
    "        if ratios[i] == float('inf'):\n",
    "            print(\"Bài toán không giới nội.\")\n",
    "            return -np.inf, None\n",
    "        \n",
    "        # Tính giá trị tối ưu\n",
    "        z += c_n[j] / T[i, j] * b_n[i]\n",
    "        # Cập nhật ma trận\n",
    "        basis[i] = j\n",
    "        \n",
    "        for k in range(m):\n",
    "            if k != i:\n",
    "                # x1 = T[k, j]/T[i,j]\n",
    "                # x2 = b_n[i]\n",
    "                # b_n[k] -= np.multiply(x1,x2)\n",
    "                b_n[k] -= (T[k, j]/T[i,j]) * b_n[i]\n",
    "                T[k, :] -=  T[k, j] / T[i,j] * T[i, :]\n",
    "        \n",
    "        b_n[i] /= T[i, j]\n",
    "        T[i, :] /= T[i, j]\n",
    "        c_n -= c_n[j] * T[i, :]\n",
    "        # Kiểm tra thuật toán có hoàn thành hay không \n",
    "        # Nếu Từ vựng mới trùng với từ vựng ban đầu thì dừng thuật toán\n",
    "        if np.array_equal(c_n, c_cop) and np.array_equal(T, A_cop) and np.array_equal(b_n, b_cop):\n",
    "            print(\"Thuật toán lặp vô hạn.\")\n",
    "            # Thêm bland vào đây\n",
    "            return None, None\n",
    "        \n",
    "    # Tìm nghiệm tối ưu\n",
    "    x = np.zeros(n)\n",
    "    for i in range(m):\n",
    "        if basis[i] < n:\n",
    "            if i <= len(b_n):\n",
    "                x[int(basis[i])] = b_n[i]\n",
    "            else:\n",
    "                x[int(basis[i])] = 0\n",
    "            # try:\n",
    "            #     idx = int(basis[i])\n",
    "            #     if idx < 0 or idx >= len(x):\n",
    "            #         raise IndexError\n",
    "            #     x[idx] = b_n[i]\n",
    "            # except (IndexError, ValueError):\n",
    "            #     print(f\"Invalid basis index at i = {i}\")\n",
    "            #     x[basis[i]] = 0      \n",
    "\n",
    "\n",
    "\n",
    "\n",
    "    return z, x  "
   ]
  },
  {
   "cell_type": "code",
   "execution_count": 17,
   "id": "4b0c3fdd",
   "metadata": {},
   "outputs": [
    {
     "name": "stdout",
     "output_type": "stream",
     "text": [
      "Bài toán không giới nội.\n",
      "z =  -inf\n",
      "x =  None\n"
     ]
    }
   ],
   "source": [
    "\n",
    "z, x = two_phases(A, b, c)\n",
    "print(\"z = \", z)\n",
    "print(\"x = \", x)"
   ]
  },
  {
   "cell_type": "code",
   "execution_count": 18,
   "id": "354f04f5",
   "metadata": {},
   "outputs": [
    {
     "name": "stdout",
     "output_type": "stream",
     "text": [
      "inf\n",
      "None\n"
     ]
    }
   ],
   "source": [
    "def origin_solution(objective_origin, constraint_origin, condition_origin, z, x):\n",
    "    if z==None:\n",
    "        return z,x\n",
    "    x_origin=np.zeros(constraint_origin.shape[1]-2,dtype=object)\n",
    "    if objective_origin[0][0]=='max':\n",
    "        if str(z)=='-inf':\n",
    "            z='inf'\n",
    "        elif str(z)=='inf':\n",
    "            z='-inf'\n",
    "        else:\n",
    "            z=-z\n",
    "    else:\n",
    "        z=z\n",
    "    if x!=None:\n",
    "        for i in range(condition_origin.shape[0]):\n",
    "            for j in range(i+1,len(x)):\n",
    "                if condition_origin[:,-2][i]=='?':\n",
    "                    x_origin[i]= x[i]-x[j]\n",
    "                if condition_origin[:,-2][i]=='<=':\n",
    "                    x_origin[i]=-x[i]\n",
    "                if condition_origin[:,-2][i]=='>=':\n",
    "                    x_origin[i]=x[i]\n",
    "    else:\n",
    "        x_origin=x\n",
    "                \n",
    "    return z,x_origin\n",
    "z_origin,x_origin = origin_solution(objective_origin, constraint_origin, condition_origin, z, x)\n",
    "print(z_origin)\n",
    "print(x_origin)"
   ]
  }
 ],
 "metadata": {
  "kernelspec": {
   "display_name": "Python 3 (ipykernel)",
   "language": "python",
   "name": "python3"
  },
  "language_info": {
   "codemirror_mode": {
    "name": "ipython",
    "version": 3
   },
   "file_extension": ".py",
   "mimetype": "text/x-python",
   "name": "python",
   "nbconvert_exporter": "python",
   "pygments_lexer": "ipython3",
   "version": "3.9.12"
  }
 },
 "nbformat": 4,
 "nbformat_minor": 5
}
